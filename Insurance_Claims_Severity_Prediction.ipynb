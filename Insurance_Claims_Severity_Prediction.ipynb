{
 "cells": [
  {
   "cell_type": "code",
   "execution_count": null,
   "metadata": {
    "colab": {
     "base_uri": "https://localhost:8080/",
     "height": 138
    },
    "colab_type": "code",
    "id": "TWSZ7Mj5_aKk",
    "outputId": "aa94c7b4-ff4d-4d7c-f4c4-7aaa17e5bd6d"
   },
   "outputs": [],
   "source": [
    "from google.colab import drive\n",
    "drive.mount(\"/gdrive\")\n",
    "%cd /gdrive"
   ]
  },
  {
   "cell_type": "code",
   "execution_count": 2,
   "metadata": {
    "colab": {
     "base_uri": "https://localhost:8080/",
     "height": 34
    },
    "colab_type": "code",
    "id": "DWGak0T8_2qI",
    "outputId": "de1dfd56-b754-4df3-be3b-f4f1294b0dec"
   },
   "outputs": [
    {
     "name": "stdout",
     "output_type": "stream",
     "text": [
      "/gdrive/My Drive/Dataset/Insurance-Claims-Severity-Prediction/data\n"
     ]
    }
   ],
   "source": [
    "%cd /gdrive/'My Drive'/Dataset/Insurance-Claims-Severity-Prediction/data/"
   ]
  },
  {
   "cell_type": "code",
   "execution_count": 2,
   "metadata": {
    "colab": {},
    "colab_type": "code",
    "id": "AhusHosVAcDG"
   },
   "outputs": [],
   "source": [
    "import pandas as pd\n",
    "import numpy as np\n",
    "import matplotlib.pyplot as plt\n",
    "import seaborn as sns\n",
    "\n",
    "%matplotlib inline"
   ]
  },
  {
   "cell_type": "code",
   "execution_count": 3,
   "metadata": {
    "colab": {},
    "colab_type": "code",
    "id": "BBtADgcKAq3b"
   },
   "outputs": [],
   "source": [
    "train = pd.read_csv('data/train.csv')\n",
    "\n",
    "test = pd.read_csv('data/test.csv')"
   ]
  },
  {
   "cell_type": "code",
   "execution_count": 4,
   "metadata": {
    "colab": {
     "base_uri": "https://localhost:8080/",
     "height": 50
    },
    "colab_type": "code",
    "id": "mNztA9vwBC3f",
    "outputId": "de1892fb-e3f8-4aa8-a424-77ed047fc152"
   },
   "outputs": [
    {
     "name": "stdout",
     "output_type": "stream",
     "text": [
      "Train shape: (188318, 132)\n",
      "Test shape: (125546, 131)\n"
     ]
    }
   ],
   "source": [
    "print('Train shape:',train.shape)\n",
    "print('Test shape:',test.shape)"
   ]
  },
  {
   "cell_type": "code",
   "execution_count": 5,
   "metadata": {
    "colab": {
     "base_uri": "https://localhost:8080/",
     "height": 244
    },
    "colab_type": "code",
    "id": "HEJnmsL4BNAL",
    "outputId": "d824a942-fbf7-446c-82f0-e1ed7e028422"
   },
   "outputs": [
    {
     "data": {
      "text/html": [
       "<div>\n",
       "<style scoped>\n",
       "    .dataframe tbody tr th:only-of-type {\n",
       "        vertical-align: middle;\n",
       "    }\n",
       "\n",
       "    .dataframe tbody tr th {\n",
       "        vertical-align: top;\n",
       "    }\n",
       "\n",
       "    .dataframe thead th {\n",
       "        text-align: right;\n",
       "    }\n",
       "</style>\n",
       "<table border=\"1\" class=\"dataframe\">\n",
       "  <thead>\n",
       "    <tr style=\"text-align: right;\">\n",
       "      <th></th>\n",
       "      <th>id</th>\n",
       "      <th>cat1</th>\n",
       "      <th>cat2</th>\n",
       "      <th>cat3</th>\n",
       "      <th>cat4</th>\n",
       "      <th>cat5</th>\n",
       "      <th>cat6</th>\n",
       "      <th>cat7</th>\n",
       "      <th>cat8</th>\n",
       "      <th>cat9</th>\n",
       "      <th>...</th>\n",
       "      <th>cont6</th>\n",
       "      <th>cont7</th>\n",
       "      <th>cont8</th>\n",
       "      <th>cont9</th>\n",
       "      <th>cont10</th>\n",
       "      <th>cont11</th>\n",
       "      <th>cont12</th>\n",
       "      <th>cont13</th>\n",
       "      <th>cont14</th>\n",
       "      <th>loss</th>\n",
       "    </tr>\n",
       "  </thead>\n",
       "  <tbody>\n",
       "    <tr>\n",
       "      <th>0</th>\n",
       "      <td>1</td>\n",
       "      <td>A</td>\n",
       "      <td>B</td>\n",
       "      <td>A</td>\n",
       "      <td>B</td>\n",
       "      <td>A</td>\n",
       "      <td>A</td>\n",
       "      <td>A</td>\n",
       "      <td>A</td>\n",
       "      <td>B</td>\n",
       "      <td>...</td>\n",
       "      <td>0.718367</td>\n",
       "      <td>0.335060</td>\n",
       "      <td>0.30260</td>\n",
       "      <td>0.67135</td>\n",
       "      <td>0.83510</td>\n",
       "      <td>0.569745</td>\n",
       "      <td>0.594646</td>\n",
       "      <td>0.822493</td>\n",
       "      <td>0.714843</td>\n",
       "      <td>2213.18</td>\n",
       "    </tr>\n",
       "    <tr>\n",
       "      <th>1</th>\n",
       "      <td>2</td>\n",
       "      <td>A</td>\n",
       "      <td>B</td>\n",
       "      <td>A</td>\n",
       "      <td>A</td>\n",
       "      <td>A</td>\n",
       "      <td>A</td>\n",
       "      <td>A</td>\n",
       "      <td>A</td>\n",
       "      <td>B</td>\n",
       "      <td>...</td>\n",
       "      <td>0.438917</td>\n",
       "      <td>0.436585</td>\n",
       "      <td>0.60087</td>\n",
       "      <td>0.35127</td>\n",
       "      <td>0.43919</td>\n",
       "      <td>0.338312</td>\n",
       "      <td>0.366307</td>\n",
       "      <td>0.611431</td>\n",
       "      <td>0.304496</td>\n",
       "      <td>1283.60</td>\n",
       "    </tr>\n",
       "    <tr>\n",
       "      <th>2</th>\n",
       "      <td>5</td>\n",
       "      <td>A</td>\n",
       "      <td>B</td>\n",
       "      <td>A</td>\n",
       "      <td>A</td>\n",
       "      <td>B</td>\n",
       "      <td>A</td>\n",
       "      <td>A</td>\n",
       "      <td>A</td>\n",
       "      <td>B</td>\n",
       "      <td>...</td>\n",
       "      <td>0.289648</td>\n",
       "      <td>0.315545</td>\n",
       "      <td>0.27320</td>\n",
       "      <td>0.26076</td>\n",
       "      <td>0.32446</td>\n",
       "      <td>0.381398</td>\n",
       "      <td>0.373424</td>\n",
       "      <td>0.195709</td>\n",
       "      <td>0.774425</td>\n",
       "      <td>3005.09</td>\n",
       "    </tr>\n",
       "    <tr>\n",
       "      <th>3</th>\n",
       "      <td>10</td>\n",
       "      <td>B</td>\n",
       "      <td>B</td>\n",
       "      <td>A</td>\n",
       "      <td>B</td>\n",
       "      <td>A</td>\n",
       "      <td>A</td>\n",
       "      <td>A</td>\n",
       "      <td>A</td>\n",
       "      <td>B</td>\n",
       "      <td>...</td>\n",
       "      <td>0.440945</td>\n",
       "      <td>0.391128</td>\n",
       "      <td>0.31796</td>\n",
       "      <td>0.32128</td>\n",
       "      <td>0.44467</td>\n",
       "      <td>0.327915</td>\n",
       "      <td>0.321570</td>\n",
       "      <td>0.605077</td>\n",
       "      <td>0.602642</td>\n",
       "      <td>939.85</td>\n",
       "    </tr>\n",
       "    <tr>\n",
       "      <th>4</th>\n",
       "      <td>11</td>\n",
       "      <td>A</td>\n",
       "      <td>B</td>\n",
       "      <td>A</td>\n",
       "      <td>B</td>\n",
       "      <td>A</td>\n",
       "      <td>A</td>\n",
       "      <td>A</td>\n",
       "      <td>A</td>\n",
       "      <td>B</td>\n",
       "      <td>...</td>\n",
       "      <td>0.178193</td>\n",
       "      <td>0.247408</td>\n",
       "      <td>0.24564</td>\n",
       "      <td>0.22089</td>\n",
       "      <td>0.21230</td>\n",
       "      <td>0.204687</td>\n",
       "      <td>0.202213</td>\n",
       "      <td>0.246011</td>\n",
       "      <td>0.432606</td>\n",
       "      <td>2763.85</td>\n",
       "    </tr>\n",
       "  </tbody>\n",
       "</table>\n",
       "<p>5 rows × 132 columns</p>\n",
       "</div>"
      ],
      "text/plain": [
       "   id cat1 cat2 cat3 cat4 cat5 cat6 cat7 cat8 cat9  ...     cont6     cont7  \\\n",
       "0   1    A    B    A    B    A    A    A    A    B  ...  0.718367  0.335060   \n",
       "1   2    A    B    A    A    A    A    A    A    B  ...  0.438917  0.436585   \n",
       "2   5    A    B    A    A    B    A    A    A    B  ...  0.289648  0.315545   \n",
       "3  10    B    B    A    B    A    A    A    A    B  ...  0.440945  0.391128   \n",
       "4  11    A    B    A    B    A    A    A    A    B  ...  0.178193  0.247408   \n",
       "\n",
       "     cont8    cont9   cont10    cont11    cont12    cont13    cont14     loss  \n",
       "0  0.30260  0.67135  0.83510  0.569745  0.594646  0.822493  0.714843  2213.18  \n",
       "1  0.60087  0.35127  0.43919  0.338312  0.366307  0.611431  0.304496  1283.60  \n",
       "2  0.27320  0.26076  0.32446  0.381398  0.373424  0.195709  0.774425  3005.09  \n",
       "3  0.31796  0.32128  0.44467  0.327915  0.321570  0.605077  0.602642   939.85  \n",
       "4  0.24564  0.22089  0.21230  0.204687  0.202213  0.246011  0.432606  2763.85  \n",
       "\n",
       "[5 rows x 132 columns]"
      ]
     },
     "execution_count": 5,
     "metadata": {},
     "output_type": "execute_result"
    }
   ],
   "source": [
    "train.head()"
   ]
  },
  {
   "cell_type": "code",
   "execution_count": 6,
   "metadata": {
    "colab": {},
    "colab_type": "code",
    "id": "ioeN4Z39BPLT"
   },
   "outputs": [],
   "source": [
    "def null_percentage(df):\n",
    "    '''\n",
    "    input: dataframe\n",
    "    output: Null percentage of columns in dataframe\n",
    "    \n",
    "    '''\n",
    "    percent = df.isnull().sum()/len(df.index)*100\n",
    "    df = pd.DataFrame(round(percent,2),columns=['null_percent'])\n",
    "    \n",
    "    \n",
    "    return df[df['null_percent']!=0.00].sort_values('null_percent',ascending=False)"
   ]
  },
  {
   "cell_type": "code",
   "execution_count": 7,
   "metadata": {
    "colab": {
     "base_uri": "https://localhost:8080/",
     "height": 47
    },
    "colab_type": "code",
    "id": "vVbKZyCdBjEz",
    "outputId": "a1735cfe-7910-43e4-fa60-207ef08c4166"
   },
   "outputs": [
    {
     "data": {
      "text/html": [
       "<div>\n",
       "<style scoped>\n",
       "    .dataframe tbody tr th:only-of-type {\n",
       "        vertical-align: middle;\n",
       "    }\n",
       "\n",
       "    .dataframe tbody tr th {\n",
       "        vertical-align: top;\n",
       "    }\n",
       "\n",
       "    .dataframe thead th {\n",
       "        text-align: right;\n",
       "    }\n",
       "</style>\n",
       "<table border=\"1\" class=\"dataframe\">\n",
       "  <thead>\n",
       "    <tr style=\"text-align: right;\">\n",
       "      <th></th>\n",
       "      <th>null_percent</th>\n",
       "    </tr>\n",
       "  </thead>\n",
       "  <tbody>\n",
       "  </tbody>\n",
       "</table>\n",
       "</div>"
      ],
      "text/plain": [
       "Empty DataFrame\n",
       "Columns: [null_percent]\n",
       "Index: []"
      ]
     },
     "execution_count": 7,
     "metadata": {},
     "output_type": "execute_result"
    }
   ],
   "source": [
    "null_percentage(train)"
   ]
  },
  {
   "cell_type": "code",
   "execution_count": 8,
   "metadata": {
    "colab": {
     "base_uri": "https://localhost:8080/",
     "height": 47
    },
    "colab_type": "code",
    "id": "QwzzAUZDBnJn",
    "outputId": "6b50b888-248f-4121-9e33-a1f43381d68c"
   },
   "outputs": [
    {
     "data": {
      "text/html": [
       "<div>\n",
       "<style scoped>\n",
       "    .dataframe tbody tr th:only-of-type {\n",
       "        vertical-align: middle;\n",
       "    }\n",
       "\n",
       "    .dataframe tbody tr th {\n",
       "        vertical-align: top;\n",
       "    }\n",
       "\n",
       "    .dataframe thead th {\n",
       "        text-align: right;\n",
       "    }\n",
       "</style>\n",
       "<table border=\"1\" class=\"dataframe\">\n",
       "  <thead>\n",
       "    <tr style=\"text-align: right;\">\n",
       "      <th></th>\n",
       "      <th>null_percent</th>\n",
       "    </tr>\n",
       "  </thead>\n",
       "  <tbody>\n",
       "  </tbody>\n",
       "</table>\n",
       "</div>"
      ],
      "text/plain": [
       "Empty DataFrame\n",
       "Columns: [null_percent]\n",
       "Index: []"
      ]
     },
     "execution_count": 8,
     "metadata": {},
     "output_type": "execute_result"
    }
   ],
   "source": [
    "null_percentage(test)"
   ]
  },
  {
   "cell_type": "code",
   "execution_count": 9,
   "metadata": {
    "colab": {},
    "colab_type": "code",
    "id": "8l7PbpUMBpze"
   },
   "outputs": [],
   "source": [
    "def cat_count(df):\n",
    "  counts = {}\n",
    "  cat_cols = df.select_dtypes(include=['object']).columns\n",
    "  for i in range(len(cat_cols)):\n",
    "    counts[cat_cols[i]] = len(df[cat_cols[i]].value_counts())\n",
    "    \n",
    "  return pd.DataFrame(data=counts.values(), index=counts.keys(),columns=['Categories Counts']).sort_values('Categories Counts',ascending=False)"
   ]
  },
  {
   "cell_type": "code",
   "execution_count": 10,
   "metadata": {
    "colab": {
     "base_uri": "https://localhost:8080/",
     "height": 1882
    },
    "colab_type": "code",
    "id": "ae_eTJwbCBxf",
    "outputId": "b18e79e9-4d5c-4c17-b6df-bc4e7feb7d96"
   },
   "outputs": [
    {
     "data": {
      "text/html": [
       "<div>\n",
       "<style scoped>\n",
       "    .dataframe tbody tr th:only-of-type {\n",
       "        vertical-align: middle;\n",
       "    }\n",
       "\n",
       "    .dataframe tbody tr th {\n",
       "        vertical-align: top;\n",
       "    }\n",
       "\n",
       "    .dataframe thead th {\n",
       "        text-align: right;\n",
       "    }\n",
       "</style>\n",
       "<table border=\"1\" class=\"dataframe\">\n",
       "  <thead>\n",
       "    <tr style=\"text-align: right;\">\n",
       "      <th></th>\n",
       "      <th>Categories Counts</th>\n",
       "    </tr>\n",
       "  </thead>\n",
       "  <tbody>\n",
       "    <tr>\n",
       "      <th>cat116</th>\n",
       "      <td>326</td>\n",
       "    </tr>\n",
       "    <tr>\n",
       "      <th>cat110</th>\n",
       "      <td>131</td>\n",
       "    </tr>\n",
       "    <tr>\n",
       "      <th>cat109</th>\n",
       "      <td>84</td>\n",
       "    </tr>\n",
       "    <tr>\n",
       "      <th>cat113</th>\n",
       "      <td>61</td>\n",
       "    </tr>\n",
       "    <tr>\n",
       "      <th>cat112</th>\n",
       "      <td>51</td>\n",
       "    </tr>\n",
       "    <tr>\n",
       "      <th>cat115</th>\n",
       "      <td>23</td>\n",
       "    </tr>\n",
       "    <tr>\n",
       "      <th>cat107</th>\n",
       "      <td>20</td>\n",
       "    </tr>\n",
       "    <tr>\n",
       "      <th>cat105</th>\n",
       "      <td>20</td>\n",
       "    </tr>\n",
       "    <tr>\n",
       "      <th>cat101</th>\n",
       "      <td>19</td>\n",
       "    </tr>\n",
       "    <tr>\n",
       "      <th>cat114</th>\n",
       "      <td>19</td>\n",
       "    </tr>\n",
       "    <tr>\n",
       "      <th>cat106</th>\n",
       "      <td>17</td>\n",
       "    </tr>\n",
       "    <tr>\n",
       "      <th>cat104</th>\n",
       "      <td>17</td>\n",
       "    </tr>\n",
       "    <tr>\n",
       "      <th>cat111</th>\n",
       "      <td>16</td>\n",
       "    </tr>\n",
       "    <tr>\n",
       "      <th>cat99</th>\n",
       "      <td>16</td>\n",
       "    </tr>\n",
       "    <tr>\n",
       "      <th>cat100</th>\n",
       "      <td>15</td>\n",
       "    </tr>\n",
       "    <tr>\n",
       "      <th>cat103</th>\n",
       "      <td>13</td>\n",
       "    </tr>\n",
       "    <tr>\n",
       "      <th>cat108</th>\n",
       "      <td>11</td>\n",
       "    </tr>\n",
       "    <tr>\n",
       "      <th>cat102</th>\n",
       "      <td>9</td>\n",
       "    </tr>\n",
       "    <tr>\n",
       "      <th>cat89</th>\n",
       "      <td>8</td>\n",
       "    </tr>\n",
       "    <tr>\n",
       "      <th>cat96</th>\n",
       "      <td>8</td>\n",
       "    </tr>\n",
       "    <tr>\n",
       "      <th>cat91</th>\n",
       "      <td>8</td>\n",
       "    </tr>\n",
       "    <tr>\n",
       "      <th>cat92</th>\n",
       "      <td>7</td>\n",
       "    </tr>\n",
       "    <tr>\n",
       "      <th>cat90</th>\n",
       "      <td>7</td>\n",
       "    </tr>\n",
       "    <tr>\n",
       "      <th>cat97</th>\n",
       "      <td>7</td>\n",
       "    </tr>\n",
       "    <tr>\n",
       "      <th>cat94</th>\n",
       "      <td>7</td>\n",
       "    </tr>\n",
       "    <tr>\n",
       "      <th>cat93</th>\n",
       "      <td>5</td>\n",
       "    </tr>\n",
       "    <tr>\n",
       "      <th>cat95</th>\n",
       "      <td>5</td>\n",
       "    </tr>\n",
       "    <tr>\n",
       "      <th>cat98</th>\n",
       "      <td>5</td>\n",
       "    </tr>\n",
       "    <tr>\n",
       "      <th>cat82</th>\n",
       "      <td>4</td>\n",
       "    </tr>\n",
       "    <tr>\n",
       "      <th>cat77</th>\n",
       "      <td>4</td>\n",
       "    </tr>\n",
       "    <tr>\n",
       "      <th>...</th>\n",
       "      <td>...</td>\n",
       "    </tr>\n",
       "    <tr>\n",
       "      <th>cat28</th>\n",
       "      <td>2</td>\n",
       "    </tr>\n",
       "    <tr>\n",
       "      <th>cat30</th>\n",
       "      <td>2</td>\n",
       "    </tr>\n",
       "    <tr>\n",
       "      <th>cat57</th>\n",
       "      <td>2</td>\n",
       "    </tr>\n",
       "    <tr>\n",
       "      <th>cat31</th>\n",
       "      <td>2</td>\n",
       "    </tr>\n",
       "    <tr>\n",
       "      <th>cat56</th>\n",
       "      <td>2</td>\n",
       "    </tr>\n",
       "    <tr>\n",
       "      <th>cat55</th>\n",
       "      <td>2</td>\n",
       "    </tr>\n",
       "    <tr>\n",
       "      <th>cat54</th>\n",
       "      <td>2</td>\n",
       "    </tr>\n",
       "    <tr>\n",
       "      <th>cat53</th>\n",
       "      <td>2</td>\n",
       "    </tr>\n",
       "    <tr>\n",
       "      <th>cat52</th>\n",
       "      <td>2</td>\n",
       "    </tr>\n",
       "    <tr>\n",
       "      <th>cat51</th>\n",
       "      <td>2</td>\n",
       "    </tr>\n",
       "    <tr>\n",
       "      <th>cat50</th>\n",
       "      <td>2</td>\n",
       "    </tr>\n",
       "    <tr>\n",
       "      <th>cat49</th>\n",
       "      <td>2</td>\n",
       "    </tr>\n",
       "    <tr>\n",
       "      <th>cat48</th>\n",
       "      <td>2</td>\n",
       "    </tr>\n",
       "    <tr>\n",
       "      <th>cat47</th>\n",
       "      <td>2</td>\n",
       "    </tr>\n",
       "    <tr>\n",
       "      <th>cat46</th>\n",
       "      <td>2</td>\n",
       "    </tr>\n",
       "    <tr>\n",
       "      <th>cat45</th>\n",
       "      <td>2</td>\n",
       "    </tr>\n",
       "    <tr>\n",
       "      <th>cat44</th>\n",
       "      <td>2</td>\n",
       "    </tr>\n",
       "    <tr>\n",
       "      <th>cat43</th>\n",
       "      <td>2</td>\n",
       "    </tr>\n",
       "    <tr>\n",
       "      <th>cat42</th>\n",
       "      <td>2</td>\n",
       "    </tr>\n",
       "    <tr>\n",
       "      <th>cat41</th>\n",
       "      <td>2</td>\n",
       "    </tr>\n",
       "    <tr>\n",
       "      <th>cat40</th>\n",
       "      <td>2</td>\n",
       "    </tr>\n",
       "    <tr>\n",
       "      <th>cat39</th>\n",
       "      <td>2</td>\n",
       "    </tr>\n",
       "    <tr>\n",
       "      <th>cat38</th>\n",
       "      <td>2</td>\n",
       "    </tr>\n",
       "    <tr>\n",
       "      <th>cat37</th>\n",
       "      <td>2</td>\n",
       "    </tr>\n",
       "    <tr>\n",
       "      <th>cat36</th>\n",
       "      <td>2</td>\n",
       "    </tr>\n",
       "    <tr>\n",
       "      <th>cat35</th>\n",
       "      <td>2</td>\n",
       "    </tr>\n",
       "    <tr>\n",
       "      <th>cat34</th>\n",
       "      <td>2</td>\n",
       "    </tr>\n",
       "    <tr>\n",
       "      <th>cat33</th>\n",
       "      <td>2</td>\n",
       "    </tr>\n",
       "    <tr>\n",
       "      <th>cat32</th>\n",
       "      <td>2</td>\n",
       "    </tr>\n",
       "    <tr>\n",
       "      <th>cat59</th>\n",
       "      <td>2</td>\n",
       "    </tr>\n",
       "  </tbody>\n",
       "</table>\n",
       "<p>116 rows × 1 columns</p>\n",
       "</div>"
      ],
      "text/plain": [
       "        Categories Counts\n",
       "cat116                326\n",
       "cat110                131\n",
       "cat109                 84\n",
       "cat113                 61\n",
       "cat112                 51\n",
       "cat115                 23\n",
       "cat107                 20\n",
       "cat105                 20\n",
       "cat101                 19\n",
       "cat114                 19\n",
       "cat106                 17\n",
       "cat104                 17\n",
       "cat111                 16\n",
       "cat99                  16\n",
       "cat100                 15\n",
       "cat103                 13\n",
       "cat108                 11\n",
       "cat102                  9\n",
       "cat89                   8\n",
       "cat96                   8\n",
       "cat91                   8\n",
       "cat92                   7\n",
       "cat90                   7\n",
       "cat97                   7\n",
       "cat94                   7\n",
       "cat93                   5\n",
       "cat95                   5\n",
       "cat98                   5\n",
       "cat82                   4\n",
       "cat77                   4\n",
       "...                   ...\n",
       "cat28                   2\n",
       "cat30                   2\n",
       "cat57                   2\n",
       "cat31                   2\n",
       "cat56                   2\n",
       "cat55                   2\n",
       "cat54                   2\n",
       "cat53                   2\n",
       "cat52                   2\n",
       "cat51                   2\n",
       "cat50                   2\n",
       "cat49                   2\n",
       "cat48                   2\n",
       "cat47                   2\n",
       "cat46                   2\n",
       "cat45                   2\n",
       "cat44                   2\n",
       "cat43                   2\n",
       "cat42                   2\n",
       "cat41                   2\n",
       "cat40                   2\n",
       "cat39                   2\n",
       "cat38                   2\n",
       "cat37                   2\n",
       "cat36                   2\n",
       "cat35                   2\n",
       "cat34                   2\n",
       "cat33                   2\n",
       "cat32                   2\n",
       "cat59                   2\n",
       "\n",
       "[116 rows x 1 columns]"
      ]
     },
     "execution_count": 10,
     "metadata": {},
     "output_type": "execute_result"
    }
   ],
   "source": [
    "counts = cat_count(train)\n",
    "counts"
   ]
  },
  {
   "cell_type": "code",
   "execution_count": 11,
   "metadata": {
    "colab": {
     "base_uri": "https://localhost:8080/",
     "height": 54
    },
    "colab_type": "code",
    "id": "DjFyhMjWDGkp",
    "outputId": "15683024-a9ce-485e-c0c9-67c600fadd00"
   },
   "outputs": [
    {
     "name": "stdout",
     "output_type": "stream",
     "text": [
      "['cat116', 'cat110', 'cat109', 'cat113', 'cat112', 'cat115', 'cat107', 'cat105', 'cat101', 'cat114', 'cat106', 'cat104', 'cat111', 'cat99', 'cat100', 'cat103', 'cat108', 'cat102', 'cat89', 'cat96', 'cat91', 'cat92', 'cat90', 'cat97', 'cat94', 'cat93', 'cat95', 'cat98', 'cat82', 'cat77', 'cat78', 'cat79', 'cat80', 'cat81', 'cat88', 'cat83', 'cat85', 'cat86', 'cat87', 'cat84', 'cat76', 'cat75', 'cat74', 'cat73', 'cat66', 'cat61', 'cat62', 'cat63', 'cat64', 'cat65', 'cat71', 'cat67', 'cat68', 'cat69', 'cat70', 'cat72', 'cat2', 'cat60', 'cat1', 'cat58', 'cat29', 'cat27', 'cat26', 'cat25', 'cat24', 'cat23', 'cat22', 'cat21', 'cat20', 'cat19', 'cat18', 'cat17', 'cat16', 'cat15', 'cat14', 'cat13', 'cat12', 'cat11', 'cat10', 'cat9', 'cat8', 'cat7', 'cat6', 'cat5', 'cat4', 'cat3', 'cat28', 'cat30', 'cat57', 'cat31', 'cat56', 'cat55', 'cat54', 'cat53', 'cat52', 'cat51', 'cat50', 'cat49', 'cat48', 'cat47', 'cat46', 'cat45', 'cat44', 'cat43', 'cat42', 'cat41', 'cat40', 'cat39', 'cat38', 'cat37', 'cat36', 'cat35', 'cat34', 'cat33', 'cat32', 'cat59']\n"
     ]
    }
   ],
   "source": [
    "print(list(counts.index))"
   ]
  },
  {
   "cell_type": "code",
   "execution_count": 12,
   "metadata": {
    "colab": {
     "base_uri": "https://localhost:8080/",
     "height": 1035
    },
    "colab_type": "code",
    "id": "-xshH237CbyG",
    "outputId": "b63050b1-77e2-4943-819a-f00e99922363"
   },
   "outputs": [
    {
     "data": {
      "image/png": "[encoded data removed]",
      "text/plain": [
       "<Figure size 1296x1296 with 2 Axes>"
      ]
     },
     "metadata": {},
     "output_type": "display_data"
    }
   ],
   "source": [
    "mask = np.zeros_like(train.corr())\n",
    "mask[np.triu_indices_from(mask)] = True\n",
    "with sns.axes_style(\"white\"):\n",
    "  \n",
    "  sns.set(rc={'figure.figsize':(18,18)})\n",
    "  ax = sns.heatmap(train.corr(), mask=mask, vmax=.7,annot=True,linewidths=0.5)"
   ]
  },
  {
   "cell_type": "code",
   "execution_count": 13,
   "metadata": {
    "colab": {},
    "colab_type": "code",
    "id": "G4vMynauIdKW"
   },
   "outputs": [],
   "source": [
    "train.drop(['cont12','cont1','cont6','cont9'],axis=1,inplace=True)\n",
    "test.drop(['cont12','cont1','cont6','cont9'],axis=1,inplace=True)\n"
   ]
  },
  {
   "cell_type": "code",
   "execution_count": 14,
   "metadata": {
    "colab": {
     "base_uri": "https://localhost:8080/",
     "height": 709
    },
    "colab_type": "code",
    "id": "T4dBip7iI5Da",
    "outputId": "858eb4ba-4198-489f-b444-c3a9aacd39fe"
   },
   "outputs": [
    {
     "data": {
      "image/png": "[encoded data removed]",
      "text/plain": [
       "<Figure size 864x864 with 2 Axes>"
      ]
     },
     "metadata": {},
     "output_type": "display_data"
    }
   ],
   "source": [
    "mask = np.zeros_like(train.corr())\n",
    "mask[np.triu_indices_from(mask)] = True\n",
    "with sns.axes_style(\"white\"):\n",
    "  \n",
    "  sns.set(rc={'figure.figsize':(12,12)})\n",
    "  ax = sns.heatmap(train.corr(), mask=mask, vmax=.7,annot=True,linewidths=0.5)"
   ]
  },
  {
   "cell_type": "code",
   "execution_count": 15,
   "metadata": {
    "colab": {
     "base_uri": "https://localhost:8080/",
     "height": 580
    },
    "colab_type": "code",
    "id": "A9oa1w_hI7F9",
    "outputId": "1cc4a2ad-7df5-47d8-8b33-05e7e3f53857"
   },
   "outputs": [
    {
     "data": {
      "text/plain": [
       "<matplotlib.axes._subplots.AxesSubplot at 0x1e1984f8898>"
      ]
     },
     "execution_count": 15,
     "metadata": {},
     "output_type": "execute_result"
    },
    {
     "data": {
      "image/png": "[encoded data removed]",
      "text/plain": [
       "<Figure size 936x648 with 1 Axes>"
      ]
     },
     "metadata": {},
     "output_type": "display_data"
    }
   ],
   "source": [
    "sns.set(rc={'figure.figsize':(13,9)})\n",
    "sns.distplot(train['loss'])"
   ]
  },
  {
   "cell_type": "code",
   "execution_count": 16,
   "metadata": {
    "colab": {
     "base_uri": "https://localhost:8080/",
     "height": 580
    },
    "colab_type": "code",
    "id": "Ju1nAyN6lCuv",
    "outputId": "65b0e2d4-ff45-4545-a231-26ebbaffaaa6"
   },
   "outputs": [
    {
     "data": {
      "text/plain": [
       "<matplotlib.axes._subplots.AxesSubplot at 0x1e1987b7160>"
      ]
     },
     "execution_count": 16,
     "metadata": {},
     "output_type": "execute_result"
    },
    {
     "data": {
      "image/png": "[encoded data removed]",
      "text/plain": [
       "<Figure size 936x648 with 1 Axes>"
      ]
     },
     "metadata": {},
     "output_type": "display_data"
    }
   ],
   "source": [
    "plt.figure(figsize=(13,9))\n",
    "sns.distplot(np.log1p(train[\"loss\"]))\n"
   ]
  },
  {
   "cell_type": "code",
   "execution_count": 17,
   "metadata": {
    "colab": {
     "base_uri": "https://localhost:8080/",
     "height": 67
    },
    "colab_type": "code",
    "id": "e-zm6qyfP42m",
    "outputId": "d345ec5e-c0c4-4f67-8dd3-b29fcfe29427"
   },
   "outputs": [
    {
     "data": {
      "text/plain": [
       "Index(['id', 'cont2', 'cont3', 'cont4', 'cont5', 'cont7', 'cont8', 'cont10',\n",
       "       'cont11', 'cont13', 'cont14', 'loss'],\n",
       "      dtype='object')"
      ]
     },
     "execution_count": 17,
     "metadata": {},
     "output_type": "execute_result"
    }
   ],
   "source": [
    "train.select_dtypes(include=['integer','float']).columns"
   ]
  },
  {
   "cell_type": "code",
   "execution_count": 18,
   "metadata": {
    "colab": {},
    "colab_type": "code",
    "id": "8d9z6WxE3WFp"
   },
   "outputs": [],
   "source": [
    "train.drop(['id'],axis=1,inplace=True)\n",
    "test.drop(['id'],axis=1,inplace=True)\n"
   ]
  },
  {
   "cell_type": "code",
   "execution_count": 19,
   "metadata": {
    "colab": {},
    "colab_type": "code",
    "id": "21yvsE_8c8mY"
   },
   "outputs": [],
   "source": [
    "num_cols = ['cont2', 'cont3', 'cont4', 'cont5', 'cont7', 'cont8', 'cont10',\n",
    "       'cont11', 'cont13', 'cont14']\n",
    "\n",
    "cat_cols = list(counts.index)"
   ]
  },
  {
   "cell_type": "code",
   "execution_count": 20,
   "metadata": {
    "colab": {
     "base_uri": "https://localhost:8080/",
     "height": 325
    },
    "colab_type": "code",
    "id": "Cn8c6DQvRHVs",
    "outputId": "cece70c2-0c77-4d0c-c716-6757a095f4a6"
   },
   "outputs": [
    {
     "data": {
      "image/png": "[encoded data removed]",
      "text/plain": [
       "<Figure size 1440x360 with 10 Axes>"
      ]
     },
     "metadata": {},
     "output_type": "display_data"
    }
   ],
   "source": [
    "fig = plt.figure(figsize=(20,5))\n",
    "\n",
    "for i in range(5):\n",
    "    ax = fig.add_subplot(2, 5, i+1 , xticks=[], yticks=[])\n",
    "    ax.hist(train[num_cols[i]], bins=10)\n",
    "    ax.set_title(num_cols[i])\n",
    "\n",
    "    ax = fig.add_subplot(2, 5, i+6 , xticks=[], yticks=[])\n",
    "    ax.hist(train[num_cols[i+5]], bins=50)\n",
    "    ax.set_title(num_cols[i+5])\n",
    "    "
   ]
  },
  {
   "cell_type": "code",
   "execution_count": 21,
   "metadata": {
    "colab": {},
    "colab_type": "code",
    "id": "o1Af9bEI0oNO"
   },
   "outputs": [],
   "source": [
    "merged = pd.concat([train,test],sort=False)"
   ]
  },
  {
   "cell_type": "code",
   "execution_count": 22,
   "metadata": {
    "colab": {
     "base_uri": "https://localhost:8080/",
     "height": 34
    },
    "colab_type": "code",
    "id": "bKasJBX81SEI",
    "outputId": "092040b5-cb07-4bc1-bf2a-7476210c5f95"
   },
   "outputs": [
    {
     "data": {
      "text/plain": [
       "(313864, 127)"
      ]
     },
     "execution_count": 22,
     "metadata": {},
     "output_type": "execute_result"
    }
   ],
   "source": [
    "merged.shape"
   ]
  },
  {
   "cell_type": "code",
   "execution_count": 23,
   "metadata": {
    "colab": {
     "base_uri": "https://localhost:8080/",
     "height": 77
    },
    "colab_type": "code",
    "id": "DTavAxzd1lcG",
    "outputId": "ea05db8c-f357-470c-8bf9-206584be23d0"
   },
   "outputs": [
    {
     "data": {
      "text/html": [
       "<div>\n",
       "<style scoped>\n",
       "    .dataframe tbody tr th:only-of-type {\n",
       "        vertical-align: middle;\n",
       "    }\n",
       "\n",
       "    .dataframe tbody tr th {\n",
       "        vertical-align: top;\n",
       "    }\n",
       "\n",
       "    .dataframe thead th {\n",
       "        text-align: right;\n",
       "    }\n",
       "</style>\n",
       "<table border=\"1\" class=\"dataframe\">\n",
       "  <thead>\n",
       "    <tr style=\"text-align: right;\">\n",
       "      <th></th>\n",
       "      <th>null_percent</th>\n",
       "    </tr>\n",
       "  </thead>\n",
       "  <tbody>\n",
       "    <tr>\n",
       "      <th>loss</th>\n",
       "      <td>40.0</td>\n",
       "    </tr>\n",
       "  </tbody>\n",
       "</table>\n",
       "</div>"
      ],
      "text/plain": [
       "      null_percent\n",
       "loss          40.0"
      ]
     },
     "execution_count": 23,
     "metadata": {},
     "output_type": "execute_result"
    }
   ],
   "source": [
    "null_percentage(merged)"
   ]
  },
  {
   "cell_type": "code",
   "execution_count": 24,
   "metadata": {
    "colab": {},
    "colab_type": "code",
    "id": "m6X1dlpWdoRS"
   },
   "outputs": [],
   "source": [
    "from sklearn.preprocessing import MinMaxScaler,LabelEncoder\n"
   ]
  },
  {
   "cell_type": "code",
   "execution_count": 25,
   "metadata": {
    "colab": {},
    "colab_type": "code",
    "id": "7Z86LMZj2BhQ"
   },
   "outputs": [],
   "source": [
    "from sklearn.preprocessing import MinMaxScaler,LabelEncoder,Normalizer\n",
    "\n",
    "\n",
    "lb = LabelEncoder()\n",
    "\n",
    "for cat in cat_cols:\n",
    "  merged[cat] = lb.fit_transform(merged[cat])\n"
   ]
  },
  {
   "cell_type": "code",
   "execution_count": 26,
   "metadata": {
    "colab": {
     "base_uri": "https://localhost:8080/",
     "height": 244
    },
    "colab_type": "code",
    "id": "jZtCX7XJ2kG2",
    "outputId": "69b75323-f752-4d39-d1c0-a1e9641518eb"
   },
   "outputs": [
    {
     "data": {
      "text/html": [
       "<div>\n",
       "<style scoped>\n",
       "    .dataframe tbody tr th:only-of-type {\n",
       "        vertical-align: middle;\n",
       "    }\n",
       "\n",
       "    .dataframe tbody tr th {\n",
       "        vertical-align: top;\n",
       "    }\n",
       "\n",
       "    .dataframe thead th {\n",
       "        text-align: right;\n",
       "    }\n",
       "</style>\n",
       "<table border=\"1\" class=\"dataframe\">\n",
       "  <thead>\n",
       "    <tr style=\"text-align: right;\">\n",
       "      <th></th>\n",
       "      <th>cat1</th>\n",
       "      <th>cat2</th>\n",
       "      <th>cat3</th>\n",
       "      <th>cat4</th>\n",
       "      <th>cat5</th>\n",
       "      <th>cat6</th>\n",
       "      <th>cat7</th>\n",
       "      <th>cat8</th>\n",
       "      <th>cat9</th>\n",
       "      <th>cat10</th>\n",
       "      <th>...</th>\n",
       "      <th>cont3</th>\n",
       "      <th>cont4</th>\n",
       "      <th>cont5</th>\n",
       "      <th>cont7</th>\n",
       "      <th>cont8</th>\n",
       "      <th>cont10</th>\n",
       "      <th>cont11</th>\n",
       "      <th>cont13</th>\n",
       "      <th>cont14</th>\n",
       "      <th>loss</th>\n",
       "    </tr>\n",
       "  </thead>\n",
       "  <tbody>\n",
       "    <tr>\n",
       "      <th>125541</th>\n",
       "      <td>0</td>\n",
       "      <td>0</td>\n",
       "      <td>0</td>\n",
       "      <td>1</td>\n",
       "      <td>0</td>\n",
       "      <td>0</td>\n",
       "      <td>0</td>\n",
       "      <td>0</td>\n",
       "      <td>0</td>\n",
       "      <td>0</td>\n",
       "      <td>...</td>\n",
       "      <td>0.654310</td>\n",
       "      <td>0.284048</td>\n",
       "      <td>0.281143</td>\n",
       "      <td>0.815941</td>\n",
       "      <td>0.39455</td>\n",
       "      <td>0.40666</td>\n",
       "      <td>0.550529</td>\n",
       "      <td>0.298734</td>\n",
       "      <td>0.345946</td>\n",
       "      <td>NaN</td>\n",
       "    </tr>\n",
       "    <tr>\n",
       "      <th>125542</th>\n",
       "      <td>0</td>\n",
       "      <td>0</td>\n",
       "      <td>0</td>\n",
       "      <td>0</td>\n",
       "      <td>1</td>\n",
       "      <td>1</td>\n",
       "      <td>0</td>\n",
       "      <td>1</td>\n",
       "      <td>0</td>\n",
       "      <td>0</td>\n",
       "      <td>...</td>\n",
       "      <td>0.549770</td>\n",
       "      <td>0.267727</td>\n",
       "      <td>0.674529</td>\n",
       "      <td>0.424968</td>\n",
       "      <td>0.47669</td>\n",
       "      <td>0.26894</td>\n",
       "      <td>0.324486</td>\n",
       "      <td>0.490001</td>\n",
       "      <td>0.290576</td>\n",
       "      <td>NaN</td>\n",
       "    </tr>\n",
       "    <tr>\n",
       "      <th>125543</th>\n",
       "      <td>1</td>\n",
       "      <td>1</td>\n",
       "      <td>0</td>\n",
       "      <td>0</td>\n",
       "      <td>1</td>\n",
       "      <td>0</td>\n",
       "      <td>0</td>\n",
       "      <td>0</td>\n",
       "      <td>1</td>\n",
       "      <td>1</td>\n",
       "      <td>...</td>\n",
       "      <td>0.484196</td>\n",
       "      <td>0.594598</td>\n",
       "      <td>0.794794</td>\n",
       "      <td>0.511502</td>\n",
       "      <td>0.72299</td>\n",
       "      <td>0.83510</td>\n",
       "      <td>0.933174</td>\n",
       "      <td>0.848129</td>\n",
       "      <td>0.808125</td>\n",
       "      <td>NaN</td>\n",
       "    </tr>\n",
       "    <tr>\n",
       "      <th>125544</th>\n",
       "      <td>0</td>\n",
       "      <td>0</td>\n",
       "      <td>0</td>\n",
       "      <td>0</td>\n",
       "      <td>0</td>\n",
       "      <td>1</td>\n",
       "      <td>0</td>\n",
       "      <td>1</td>\n",
       "      <td>0</td>\n",
       "      <td>0</td>\n",
       "      <td>...</td>\n",
       "      <td>0.484196</td>\n",
       "      <td>0.373816</td>\n",
       "      <td>0.302678</td>\n",
       "      <td>0.388545</td>\n",
       "      <td>0.31796</td>\n",
       "      <td>0.36974</td>\n",
       "      <td>0.307628</td>\n",
       "      <td>0.608259</td>\n",
       "      <td>0.361542</td>\n",
       "      <td>NaN</td>\n",
       "    </tr>\n",
       "    <tr>\n",
       "      <th>125545</th>\n",
       "      <td>0</td>\n",
       "      <td>1</td>\n",
       "      <td>0</td>\n",
       "      <td>0</td>\n",
       "      <td>0</td>\n",
       "      <td>0</td>\n",
       "      <td>0</td>\n",
       "      <td>0</td>\n",
       "      <td>1</td>\n",
       "      <td>0</td>\n",
       "      <td>...</td>\n",
       "      <td>0.549770</td>\n",
       "      <td>0.208655</td>\n",
       "      <td>0.413817</td>\n",
       "      <td>0.242044</td>\n",
       "      <td>0.25461</td>\n",
       "      <td>0.25183</td>\n",
       "      <td>0.245410</td>\n",
       "      <td>0.287682</td>\n",
       "      <td>0.220323</td>\n",
       "      <td>NaN</td>\n",
       "    </tr>\n",
       "  </tbody>\n",
       "</table>\n",
       "<p>5 rows × 127 columns</p>\n",
       "</div>"
      ],
      "text/plain": [
       "        cat1  cat2  cat3  cat4  cat5  cat6  cat7  cat8  cat9  cat10  ...  \\\n",
       "125541     0     0     0     1     0     0     0     0     0      0  ...   \n",
       "125542     0     0     0     0     1     1     0     1     0      0  ...   \n",
       "125543     1     1     0     0     1     0     0     0     1      1  ...   \n",
       "125544     0     0     0     0     0     1     0     1     0      0  ...   \n",
       "125545     0     1     0     0     0     0     0     0     1      0  ...   \n",
       "\n",
       "           cont3     cont4     cont5     cont7    cont8   cont10    cont11  \\\n",
       "125541  0.654310  0.284048  0.281143  0.815941  0.39455  0.40666  0.550529   \n",
       "125542  0.549770  0.267727  0.674529  0.424968  0.47669  0.26894  0.324486   \n",
       "125543  0.484196  0.594598  0.794794  0.511502  0.72299  0.83510  0.933174   \n",
       "125544  0.484196  0.373816  0.302678  0.388545  0.31796  0.36974  0.307628   \n",
       "125545  0.549770  0.208655  0.413817  0.242044  0.25461  0.25183  0.245410   \n",
       "\n",
       "          cont13    cont14  loss  \n",
       "125541  0.298734  0.345946   NaN  \n",
       "125542  0.490001  0.290576   NaN  \n",
       "125543  0.848129  0.808125   NaN  \n",
       "125544  0.608259  0.361542   NaN  \n",
       "125545  0.287682  0.220323   NaN  \n",
       "\n",
       "[5 rows x 127 columns]"
      ]
     },
     "execution_count": 26,
     "metadata": {},
     "output_type": "execute_result"
    }
   ],
   "source": [
    "merged.tail(5)"
   ]
  },
  {
   "cell_type": "code",
   "execution_count": 27,
   "metadata": {
    "colab": {},
    "colab_type": "code",
    "id": "vCxFGl1C2HcJ"
   },
   "outputs": [],
   "source": [
    "train = merged[merged['loss'].notna()]\n",
    "test = merged[merged['loss'].isna()]"
   ]
  },
  {
   "cell_type": "code",
   "execution_count": 28,
   "metadata": {
    "colab": {
     "base_uri": "https://localhost:8080/",
     "height": 50
    },
    "colab_type": "code",
    "id": "yN2Emvfp2W2C",
    "outputId": "d5a52aaa-3a58-4ec2-d0d4-611c128c8393"
   },
   "outputs": [
    {
     "name": "stdout",
     "output_type": "stream",
     "text": [
      "(188318, 127)\n",
      "(125546, 127)\n"
     ]
    }
   ],
   "source": [
    "print(train.shape)\n",
    "print(test.shape)"
   ]
  },
  {
   "cell_type": "code",
   "execution_count": 29,
   "metadata": {
    "colab": {
     "base_uri": "https://localhost:8080/",
     "height": 118
    },
    "colab_type": "code",
    "id": "8a9cLag0c2Bu",
    "outputId": "43891079-378d-4c47-a70f-ad35e646e6cd"
   },
   "outputs": [
    {
     "name": "stderr",
     "output_type": "stream",
     "text": [
      "C:\\ProgramData\\Anaconda3\\lib\\site-packages\\ipykernel_launcher.py:1: SettingWithCopyWarning: \n",
      "A value is trying to be set on a copy of a slice from a DataFrame.\n",
      "Try using .loc[row_indexer,col_indexer] = value instead\n",
      "\n",
      "See the caveats in the documentation: http://pandas.pydata.org/pandas-docs/stable/indexing.html#indexing-view-versus-copy\n",
      "  \"\"\"Entry point for launching an IPython kernel.\n"
     ]
    }
   ],
   "source": [
    "train['loss'] = np.log1p(train['loss'])\n",
    "\n"
   ]
  },
  {
   "cell_type": "code",
   "execution_count": 30,
   "metadata": {
    "colab": {
     "base_uri": "https://localhost:8080/",
     "height": 118
    },
    "colab_type": "code",
    "id": "MyflYTaJyZnz",
    "outputId": "2882593b-03be-4799-a20a-0a9c8d110a2e"
   },
   "outputs": [
    {
     "name": "stderr",
     "output_type": "stream",
     "text": [
      "C:\\ProgramData\\Anaconda3\\lib\\site-packages\\pandas\\core\\indexing.py:543: SettingWithCopyWarning: \n",
      "A value is trying to be set on a copy of a slice from a DataFrame.\n",
      "Try using .loc[row_indexer,col_indexer] = value instead\n",
      "\n",
      "See the caveats in the documentation: http://pandas.pydata.org/pandas-docs/stable/indexing.html#indexing-view-versus-copy\n",
      "  self.obj[item] = s\n"
     ]
    }
   ],
   "source": [
    "from sklearn.preprocessing import MinMaxScaler\n",
    "  \n",
    "scaler = MinMaxScaler()\n",
    "train.loc[:,num_cols] = scaler.fit_transform(train.loc[:,num_cols])"
   ]
  },
  {
   "cell_type": "code",
   "execution_count": 31,
   "metadata": {
    "colab": {
     "base_uri": "https://localhost:8080/",
     "height": 244
    },
    "colab_type": "code",
    "id": "em-DrMb75VRE",
    "outputId": "03c84251-422c-4df9-cd2d-dfb04add6a0e"
   },
   "outputs": [
    {
     "data": {
      "text/html": [
       "<div>\n",
       "<style scoped>\n",
       "    .dataframe tbody tr th:only-of-type {\n",
       "        vertical-align: middle;\n",
       "    }\n",
       "\n",
       "    .dataframe tbody tr th {\n",
       "        vertical-align: top;\n",
       "    }\n",
       "\n",
       "    .dataframe thead th {\n",
       "        text-align: right;\n",
       "    }\n",
       "</style>\n",
       "<table border=\"1\" class=\"dataframe\">\n",
       "  <thead>\n",
       "    <tr style=\"text-align: right;\">\n",
       "      <th></th>\n",
       "      <th>cat1</th>\n",
       "      <th>cat2</th>\n",
       "      <th>cat3</th>\n",
       "      <th>cat4</th>\n",
       "      <th>cat5</th>\n",
       "      <th>cat6</th>\n",
       "      <th>cat7</th>\n",
       "      <th>cat8</th>\n",
       "      <th>cat9</th>\n",
       "      <th>cat10</th>\n",
       "      <th>...</th>\n",
       "      <th>cont3</th>\n",
       "      <th>cont4</th>\n",
       "      <th>cont5</th>\n",
       "      <th>cont7</th>\n",
       "      <th>cont8</th>\n",
       "      <th>cont10</th>\n",
       "      <th>cont11</th>\n",
       "      <th>cont13</th>\n",
       "      <th>cont14</th>\n",
       "      <th>loss</th>\n",
       "    </tr>\n",
       "  </thead>\n",
       "  <tbody>\n",
       "    <tr>\n",
       "      <th>0</th>\n",
       "      <td>0</td>\n",
       "      <td>1</td>\n",
       "      <td>0</td>\n",
       "      <td>1</td>\n",
       "      <td>0</td>\n",
       "      <td>0</td>\n",
       "      <td>0</td>\n",
       "      <td>0</td>\n",
       "      <td>1</td>\n",
       "      <td>0</td>\n",
       "      <td>...</td>\n",
       "      <td>0.196416</td>\n",
       "      <td>0.788187</td>\n",
       "      <td>0.041163</td>\n",
       "      <td>0.285393</td>\n",
       "      <td>0.088414</td>\n",
       "      <td>0.839313</td>\n",
       "      <td>0.554715</td>\n",
       "      <td>0.832028</td>\n",
       "      <td>0.804541</td>\n",
       "      <td>7.702637</td>\n",
       "    </tr>\n",
       "    <tr>\n",
       "      <th>1</th>\n",
       "      <td>0</td>\n",
       "      <td>1</td>\n",
       "      <td>0</td>\n",
       "      <td>0</td>\n",
       "      <td>0</td>\n",
       "      <td>0</td>\n",
       "      <td>0</td>\n",
       "      <td>0</td>\n",
       "      <td>1</td>\n",
       "      <td>1</td>\n",
       "      <td>...</td>\n",
       "      <td>0.626632</td>\n",
       "      <td>0.562422</td>\n",
       "      <td>0.860732</td>\n",
       "      <td>0.394501</td>\n",
       "      <td>0.489681</td>\n",
       "      <td>0.441406</td>\n",
       "      <td>0.314495</td>\n",
       "      <td>0.618460</td>\n",
       "      <td>0.187595</td>\n",
       "      <td>7.158203</td>\n",
       "    </tr>\n",
       "    <tr>\n",
       "      <th>2</th>\n",
       "      <td>0</td>\n",
       "      <td>1</td>\n",
       "      <td>0</td>\n",
       "      <td>0</td>\n",
       "      <td>1</td>\n",
       "      <td>0</td>\n",
       "      <td>0</td>\n",
       "      <td>0</td>\n",
       "      <td>1</td>\n",
       "      <td>1</td>\n",
       "      <td>...</td>\n",
       "      <td>0.511420</td>\n",
       "      <td>0.077187</td>\n",
       "      <td>0.165012</td>\n",
       "      <td>0.264420</td>\n",
       "      <td>0.048862</td>\n",
       "      <td>0.326097</td>\n",
       "      <td>0.359217</td>\n",
       "      <td>0.197802</td>\n",
       "      <td>0.894121</td>\n",
       "      <td>8.008396</td>\n",
       "    </tr>\n",
       "    <tr>\n",
       "      <th>3</th>\n",
       "      <td>1</td>\n",
       "      <td>1</td>\n",
       "      <td>0</td>\n",
       "      <td>1</td>\n",
       "      <td>0</td>\n",
       "      <td>0</td>\n",
       "      <td>0</td>\n",
       "      <td>0</td>\n",
       "      <td>1</td>\n",
       "      <td>0</td>\n",
       "      <td>...</td>\n",
       "      <td>0.557931</td>\n",
       "      <td>0.253282</td>\n",
       "      <td>0.200881</td>\n",
       "      <td>0.345649</td>\n",
       "      <td>0.109078</td>\n",
       "      <td>0.446914</td>\n",
       "      <td>0.303703</td>\n",
       "      <td>0.612031</td>\n",
       "      <td>0.635849</td>\n",
       "      <td>6.846784</td>\n",
       "    </tr>\n",
       "    <tr>\n",
       "      <th>4</th>\n",
       "      <td>0</td>\n",
       "      <td>1</td>\n",
       "      <td>0</td>\n",
       "      <td>1</td>\n",
       "      <td>0</td>\n",
       "      <td>0</td>\n",
       "      <td>0</td>\n",
       "      <td>0</td>\n",
       "      <td>1</td>\n",
       "      <td>1</td>\n",
       "      <td>...</td>\n",
       "      <td>0.557931</td>\n",
       "      <td>0.381130</td>\n",
       "      <td>0.602287</td>\n",
       "      <td>0.191194</td>\n",
       "      <td>0.011785</td>\n",
       "      <td>0.213371</td>\n",
       "      <td>0.175796</td>\n",
       "      <td>0.248701</td>\n",
       "      <td>0.380205</td>\n",
       "      <td>7.924742</td>\n",
       "    </tr>\n",
       "  </tbody>\n",
       "</table>\n",
       "<p>5 rows × 127 columns</p>\n",
       "</div>"
      ],
      "text/plain": [
       "   cat1  cat2  cat3  cat4  cat5  cat6  cat7  cat8  cat9  cat10  ...     cont3  \\\n",
       "0     0     1     0     1     0     0     0     0     1      0  ...  0.196416   \n",
       "1     0     1     0     0     0     0     0     0     1      1  ...  0.626632   \n",
       "2     0     1     0     0     1     0     0     0     1      1  ...  0.511420   \n",
       "3     1     1     0     1     0     0     0     0     1      0  ...  0.557931   \n",
       "4     0     1     0     1     0     0     0     0     1      1  ...  0.557931   \n",
       "\n",
       "      cont4     cont5     cont7     cont8    cont10    cont11    cont13  \\\n",
       "0  0.788187  0.041163  0.285393  0.088414  0.839313  0.554715  0.832028   \n",
       "1  0.562422  0.860732  0.394501  0.489681  0.441406  0.314495  0.618460   \n",
       "2  0.077187  0.165012  0.264420  0.048862  0.326097  0.359217  0.197802   \n",
       "3  0.253282  0.200881  0.345649  0.109078  0.446914  0.303703  0.612031   \n",
       "4  0.381130  0.602287  0.191194  0.011785  0.213371  0.175796  0.248701   \n",
       "\n",
       "     cont14      loss  \n",
       "0  0.804541  7.702637  \n",
       "1  0.187595  7.158203  \n",
       "2  0.894121  8.008396  \n",
       "3  0.635849  6.846784  \n",
       "4  0.380205  7.924742  \n",
       "\n",
       "[5 rows x 127 columns]"
      ]
     },
     "execution_count": 31,
     "metadata": {},
     "output_type": "execute_result"
    }
   ],
   "source": [
    "train.head()"
   ]
  },
  {
   "cell_type": "code",
   "execution_count": 32,
   "metadata": {
    "colab": {
     "base_uri": "https://localhost:8080/",
     "height": 101
    },
    "colab_type": "code",
    "id": "nTdShueK8DMp",
    "outputId": "9b4049ec-5db3-468c-a1a2-134c4d90d091"
   },
   "outputs": [
    {
     "name": "stdout",
     "output_type": "stream",
     "text": [
      "<class 'pandas.core.frame.DataFrame'>\n",
      "Int64Index: 188318 entries, 0 to 188317\n",
      "Columns: 127 entries, cat1 to loss\n",
      "dtypes: float64(11), int32(116)\n",
      "memory usage: 100.6 MB\n"
     ]
    }
   ],
   "source": [
    "train.info()"
   ]
  },
  {
   "cell_type": "code",
   "execution_count": 33,
   "metadata": {
    "colab": {},
    "colab_type": "code",
    "id": "ZAQe9gID-G-D"
   },
   "outputs": [],
   "source": [
    "from sklearn.model_selection import train_test_split\n",
    "X_train, X_valid, y_train, y_valid = train_test_split(train.drop(['loss'],axis=1), train['loss'], test_size=0.3, random_state=101)"
   ]
  },
  {
   "cell_type": "code",
   "execution_count": 142,
   "metadata": {
    "colab": {},
    "colab_type": "code",
    "id": "goF3ubX4fYCy"
   },
   "outputs": [],
   "source": [
    "X_train, y_train = train.drop(['loss'],axis=1), train['loss']\n",
    "X_test = test.drop(['loss'],axis=1)\n",
    " "
   ]
  },
  {
   "cell_type": "markdown",
   "metadata": {
    "colab_type": "text",
    "id": "4jSzMLs-n-rO"
   },
   "source": [
    "##  Linear Regression"
   ]
  },
  {
   "cell_type": "code",
   "execution_count": 34,
   "metadata": {
    "colab": {},
    "colab_type": "code",
    "id": "bFQuzz2L-h4V"
   },
   "outputs": [],
   "source": [
    "from sklearn.linear_model import LinearRegression\n",
    "\n",
    "lr = LinearRegression()"
   ]
  },
  {
   "cell_type": "code",
   "execution_count": 35,
   "metadata": {
    "colab": {},
    "colab_type": "code",
    "id": "Zc3zfmro_o6l"
   },
   "outputs": [],
   "source": [
    "lr.fit(X=X_train,y=y_train)\n",
    "pred = lr.predict(X_valid)"
   ]
  },
  {
   "cell_type": "code",
   "execution_count": 36,
   "metadata": {
    "colab": {
     "base_uri": "https://localhost:8080/",
     "height": 34
    },
    "colab_type": "code",
    "id": "vtNLo4dh_640",
    "outputId": "7a5e2560-bdc9-443b-ee6a-092a703655a8"
   },
   "outputs": [
    {
     "name": "stdout",
     "output_type": "stream",
     "text": [
      "MSE: 0.3398\n"
     ]
    }
   ],
   "source": [
    "from sklearn.metrics import mean_squared_error as mse\n",
    "\n",
    "\n",
    "print('MSE:', round(mse(y_valid, pred),4))\n"
   ]
  },
  {
   "cell_type": "markdown",
   "metadata": {
    "colab_type": "text",
    "id": "9e2hmSIRpsTy"
   },
   "source": [
    "## Decision Tree"
   ]
  },
  {
   "cell_type": "code",
   "execution_count": 37,
   "metadata": {
    "colab": {},
    "colab_type": "code",
    "id": "2lIv1ftGBDpG"
   },
   "outputs": [],
   "source": [
    "from sklearn.tree import DecisionTreeRegressor\n",
    "\n",
    "DTR = DecisionTreeRegressor()\n",
    "DTR.fit(X_train,y_train)\n",
    "pred = DTR.predict(X_valid)"
   ]
  },
  {
   "cell_type": "code",
   "execution_count": 38,
   "metadata": {
    "colab": {
     "base_uri": "https://localhost:8080/",
     "height": 34
    },
    "colab_type": "code",
    "id": "TUFLGVabqEMz",
    "outputId": "6cfcb213-9f51-4344-b41d-b34a2e774a8d"
   },
   "outputs": [
    {
     "name": "stdout",
     "output_type": "stream",
     "text": [
      "MSE: 0.6534\n"
     ]
    }
   ],
   "source": [
    "print('MSE:', round(mse(y_valid, pred),4))\n"
   ]
  },
  {
   "cell_type": "markdown",
   "metadata": {
    "colab_type": "text",
    "id": "8caLJaaSqOR_"
   },
   "source": [
    "## Random Forest"
   ]
  },
  {
   "cell_type": "code",
   "execution_count": 39,
   "metadata": {
    "colab": {
     "base_uri": "https://localhost:8080/",
     "height": 50
    },
    "colab_type": "code",
    "id": "1csZzCQ7LCuo",
    "outputId": "7a71d719-418d-45fc-bf40-a35284c753a7"
   },
   "outputs": [
    {
     "name": "stderr",
     "output_type": "stream",
     "text": [
      "C:\\ProgramData\\Anaconda3\\lib\\site-packages\\sklearn\\ensemble\\forest.py:245: FutureWarning: The default value of n_estimators will change from 10 in version 0.20 to 100 in 0.22.\n",
      "  \"10 in version 0.20 to 100 in 0.22.\", FutureWarning)\n"
     ]
    }
   ],
   "source": [
    "from sklearn.ensemble import RandomForestRegressor\n",
    "\n",
    "RFR = RandomForestRegressor()\n",
    "RFR.fit(X_train,y_train)\n",
    "pred = RFR.predict(X_valid)"
   ]
  },
  {
   "cell_type": "code",
   "execution_count": 40,
   "metadata": {
    "colab": {
     "base_uri": "https://localhost:8080/",
     "height": 34
    },
    "colab_type": "code",
    "id": "HmqfTyiBLS_s",
    "outputId": "e2145521-0d39-44f2-fbdf-ecdbb1fe9c96"
   },
   "outputs": [
    {
     "name": "stdout",
     "output_type": "stream",
     "text": [
      "MSE: 0.3479\n"
     ]
    }
   ],
   "source": [
    "print('MSE:', round(mse(y_valid, pred),4))\n"
   ]
  },
  {
   "cell_type": "markdown",
   "metadata": {
    "colab_type": "text",
    "id": "-H3QGhtKvTQp"
   },
   "source": [
    "## XG Boost"
   ]
  },
  {
   "cell_type": "code",
   "execution_count": 43,
   "metadata": {
    "colab": {
     "base_uri": "https://localhost:8080/",
     "height": 101
    },
    "colab_type": "code",
    "id": "065u3V6FNNkw",
    "outputId": "acf74df0-e1cb-4806-a377-f454448e0bfc"
   },
   "outputs": [
    {
     "name": "stderr",
     "output_type": "stream",
     "text": [
      "C:\\ProgramData\\Anaconda3\\lib\\site-packages\\xgboost\\core.py:587: FutureWarning: Series.base is deprecated and will be removed in a future version\n",
      "  if getattr(data, 'base', None) is not None and \\\n"
     ]
    },
    {
     "name": "stdout",
     "output_type": "stream",
     "text": [
      "[08:54:01] WARNING: C:/Jenkins/workspace/xgboost-win64_release_0.90/src/objective/regression_obj.cu:152: reg:linear is now deprecated in favor of reg:squarederror.\n"
     ]
    }
   ],
   "source": [
    "import xgboost as xgb\n",
    "\n",
    "xgbr = xgb.XGBRegressor(n_estimators=500, n_jobs=8,reg-'squarederror')\n",
    "xgbr.fit(X_train,y_train)\n",
    "pred = xgbr.predict(X_valid)"
   ]
  },
  {
   "cell_type": "code",
   "execution_count": 44,
   "metadata": {
    "colab": {
     "base_uri": "https://localhost:8080/",
     "height": 34
    },
    "colab_type": "code",
    "id": "LT7DbiSTy0cT",
    "outputId": "83ea9c25-d1f0-4eab-d628-efb079918f19"
   },
   "outputs": [
    {
     "name": "stdout",
     "output_type": "stream",
     "text": [
      "MSE: 0.2957\n"
     ]
    }
   ],
   "source": [
    "print('MSE:', round(mse(y_valid, pred),4))"
   ]
  },
  {
   "cell_type": "markdown",
   "metadata": {},
   "source": [
    "## Xgboost (With Tuned Parameters)"
   ]
  },
  {
   "cell_type": "code",
   "execution_count": 143,
   "metadata": {},
   "outputs": [
    {
     "name": "stderr",
     "output_type": "stream",
     "text": [
      "C:\\ProgramData\\Anaconda3\\lib\\site-packages\\xgboost\\core.py:587: FutureWarning: Series.base is deprecated and will be removed in a future version\n",
      "  if getattr(data, 'base', None) is not None and \\\n",
      "C:\\ProgramData\\Anaconda3\\lib\\site-packages\\xgboost\\core.py:588: FutureWarning: Series.base is deprecated and will be removed in a future version\n",
      "  data.base is not None and isinstance(data, np.ndarray) \\\n"
     ]
    },
    {
     "name": "stdout",
     "output_type": "stream",
     "text": [
      "[11:15:49] WARNING: C:/Jenkins/workspace/xgboost-win64_release_0.90/src/objective/regression_obj.cu:152: reg:linear is now deprecated in favor of reg:squarederror.\n"
     ]
    },
    {
     "data": {
      "text/plain": [
       "XGBRegressor(base_score=0.5, booster='gbtree', colsample_bylevel=1,\n",
       "             colsample_bynode=1, colsample_bytree=0.3085, eta=0.1,\n",
       "             eval_metric='mae', gamma=0.529, importance_type='gain',\n",
       "             learning_rate=0.1, max_delta_step=0, max_depth=7,\n",
       "             min_child_weight=4.2922, missing=None, n_estimators=500, n_jobs=-1,\n",
       "             nthread=None, objective='reg:linear', random_state=0, reg_alpha=0,\n",
       "             reg_lambda=1, scale_pos_weight=1, seed=1, silent=None,\n",
       "             subsample=0.993, verbosity=1)"
      ]
     },
     "execution_count": 143,
     "metadata": {},
     "output_type": "execute_result"
    }
   ],
   "source": [
    "import xgboost as xgb\n",
    "\n",
    "xgbr = xgb.XGBRegressor(n_estimators=500, n_jobs=-1,seed =1,\n",
    "                        colsample_bytree =0.3085,\n",
    "                        subsample= 0.9930,\n",
    "                        eta = 0.1,\n",
    "                        gamma = 0.5290,\n",
    "                        booster = 'gbtree',    \n",
    "                        max_depth = 7,\n",
    "                        min_child_weight = 4.2922,\n",
    "                        eval_metric='mae')\n",
    "\n",
    "\n",
    "xgbr.fit(X_train,y_train)\n"
   ]
  },
  {
   "cell_type": "code",
   "execution_count": 144,
   "metadata": {},
   "outputs": [],
   "source": [
    "pred = xgbr.predict(X_test)"
   ]
  },
  {
   "cell_type": "code",
   "execution_count": 140,
   "metadata": {},
   "outputs": [
    {
     "name": "stdout",
     "output_type": "stream",
     "text": [
      "MSE: 0.2368\n"
     ]
    }
   ],
   "source": [
    "print('MSE:', round(mse(y_valid, pred),4))"
   ]
  },
  {
   "cell_type": "markdown",
   "metadata": {
    "colab_type": "text",
    "id": "vkAr3tRJzY2N"
   },
   "source": [
    "## Lightgbm"
   ]
  },
  {
   "cell_type": "code",
   "execution_count": 119,
   "metadata": {},
   "outputs": [],
   "source": [
    "import lightgbm\n",
    "\n",
    "lgbm = lightgbm.LGBMRegressor(n_estimators = 1000, verbose= 1)\n",
    "lgbm.fit(X_train,y_train)\n",
    "pred = lgbm.predict(X_valid)\n",
    "\n"
   ]
  },
  {
   "cell_type": "code",
   "execution_count": 120,
   "metadata": {},
   "outputs": [
    {
     "name": "stdout",
     "output_type": "stream",
     "text": [
      "MSE: 0.2903\n"
     ]
    }
   ],
   "source": [
    "print('MSE:', round(mse(y_valid, pred),4))"
   ]
  },
  {
   "cell_type": "markdown",
   "metadata": {},
   "source": [
    "## Lightgbm (With Tuning)"
   ]
  },
  {
   "cell_type": "code",
   "execution_count": 90,
   "metadata": {
    "colab": {},
    "colab_type": "code",
    "id": "-duLj0yD0_aj"
   },
   "outputs": [],
   "source": [
    "from sklearn.model_selection import RandomizedSearchCV\n",
    "\n",
    "import lightgbm as lgbm"
   ]
  },
  {
   "cell_type": "code",
   "execution_count": 116,
   "metadata": {
    "colab": {},
    "colab_type": "code",
    "id": "iA2p58vN1GcL"
   },
   "outputs": [],
   "source": [
    "\n",
    "param_test1 = {#boosting_type='gbdt', \n",
    "              'num_leaves':list(range(24,45,6)), \n",
    "              'max_depth': list(range(5,9,2)),\n",
    "              'learning_rate':[0.01,0.06,0.11,0.17], \n",
    "              'n_estimators':list(range(250,500,50)),\n",
    "              #subsample_for_bin=200000, \n",
    "              #objective=None, \n",
    "              #class_weight=None, \n",
    "              'min_split_gain': [0.0,0.02,0.04], \n",
    "              #min_child_weight=0.001, \n",
    "              ##min_child_samples=20, \n",
    "              #subsample=1.0, \n",
    "              #subsample_freq=0, \n",
    "              #colsample_bytree=1.0, \n",
    "              'reg_alpha': [0.0,0.01,0.02], \n",
    "              'reg_lambda':[0.0,0.01,0.02], \n",
    "              #random_state=None, \n",
    "              #n_jobs=-1, \n",
    "              #silent=True, \n",
    "              #importance_type='split',\n",
    "}\n",
    "\n",
    "rscv = RandomizedSearchCV(lgbm.LGBMRegressor(random_state=42,n_jobs=-1),\n",
    "                        param_distributions=param_test1,\n",
    "                        scoring = 'neg_mean_squared_error', \n",
    "                        n_jobs=-1, \n",
    "                        verbose=1,\n",
    "                        n_iter=100)\n",
    "\n"
   ]
  },
  {
   "cell_type": "code",
   "execution_count": 117,
   "metadata": {
    "colab": {
     "base_uri": "https://localhost:8080/",
     "height": 188
    },
    "colab_type": "code",
    "id": "RJR07hKu4u-r",
    "outputId": "dbf1a279-a6ad-4788-e7f8-c46f7a6a647f"
   },
   "outputs": [
    {
     "name": "stdout",
     "output_type": "stream",
     "text": [
      "Fitting 3 folds for each of 100 candidates, totalling 300 fits\n"
     ]
    },
    {
     "name": "stderr",
     "output_type": "stream",
     "text": [
      "[Parallel(n_jobs=-1)]: Using backend LokyBackend with 12 concurrent workers.\n",
      "[Parallel(n_jobs=-1)]: Done  26 tasks      | elapsed:   53.6s\n",
      "[Parallel(n_jobs=-1)]: Done 176 tasks      | elapsed:  5.6min\n",
      "[Parallel(n_jobs=-1)]: Done 300 out of 300 | elapsed:  9.3min finished\n"
     ]
    },
    {
     "data": {
      "text/plain": [
       "RandomizedSearchCV(cv='warn', error_score='raise-deprecating',\n",
       "                   estimator=LGBMRegressor(boosting_type='gbdt',\n",
       "                                           class_weight=None,\n",
       "                                           colsample_bytree=1.0,\n",
       "                                           importance_type='split',\n",
       "                                           learning_rate=0.1, max_depth=-1,\n",
       "                                           min_child_samples=20,\n",
       "                                           min_child_weight=0.001,\n",
       "                                           min_split_gain=0.0, n_estimators=100,\n",
       "                                           n_jobs=-1, num_leaves=31,\n",
       "                                           objective=None, random_state=42,\n",
       "                                           reg_alpha=0.0, r...\n",
       "                   param_distributions={'learning_rate': [0.01, 0.06, 0.11,\n",
       "                                                          0.17],\n",
       "                                        'max_depth': [5, 7],\n",
       "                                        'min_split_gain': [0.0, 0.02, 0.04],\n",
       "                                        'n_estimators': [250, 300, 350, 400,\n",
       "                                                         450],\n",
       "                                        'num_leaves': [24, 30, 36, 42],\n",
       "                                        'reg_alpha': [0.0, 0.01, 0.02],\n",
       "                                        'reg_lambda': [0.0, 0.01, 0.02]},\n",
       "                   pre_dispatch='2*n_jobs', random_state=None, refit=True,\n",
       "                   return_train_score=False, scoring='neg_mean_squared_error',\n",
       "                   verbose=1)"
      ]
     },
     "execution_count": 117,
     "metadata": {},
     "output_type": "execute_result"
    }
   ],
   "source": [
    "rscv.fit(X_train,y_train)"
   ]
  },
  {
   "cell_type": "code",
   "execution_count": 118,
   "metadata": {
    "colab": {
     "base_uri": "https://localhost:8080/",
     "height": 34
    },
    "colab_type": "code",
    "id": "ido7mzQN9HFo",
    "outputId": "a651e9e9-2652-49e2-f0a3-8200d5bac281"
   },
   "outputs": [
    {
     "data": {
      "text/plain": [
       "{'reg_lambda': 0.02,\n",
       " 'reg_alpha': 0.0,\n",
       " 'num_leaves': 42,\n",
       " 'n_estimators': 300,\n",
       " 'min_split_gain': 0.0,\n",
       " 'max_depth': 7,\n",
       " 'learning_rate': 0.06}"
      ]
     },
     "execution_count": 118,
     "metadata": {},
     "output_type": "execute_result"
    }
   ],
   "source": [
    "gs.best_params_"
   ]
  },
  {
   "cell_type": "code",
   "execution_count": 135,
   "metadata": {
    "colab": {},
    "colab_type": "code",
    "id": "Oyn3BaKUzWm-"
   },
   "outputs": [
    {
     "data": {
      "text/plain": [
       "LGBMRegressor(boosting_type='gbdt', class_weight=None, colsample_bytree=1.0,\n",
       "              importance_type='split', learning_rate=0.06, max_depth=7,\n",
       "              min_child_samples=20, min_child_weight=0.001, min_split_gain=0.0,\n",
       "              n_estimators=300, n_jobs=-1, num_leaves=42, objective=None,\n",
       "              random_state=42, reg_alpha=0.0, reg_lambda=0.02, silent=True,\n",
       "              subsample=1.0, subsample_for_bin=200000, subsample_freq=0)"
      ]
     },
     "execution_count": 135,
     "metadata": {},
     "output_type": "execute_result"
    }
   ],
   "source": [
    "import lightgbm\n",
    "\n",
    "lgbm = lightgbm.LGBMRegressor(reg_lambda= 0.02,\n",
    "                              reg_alpha = 0.0,\n",
    "                              num_leaves= 42,\n",
    "                              n_estimators = 300,\n",
    "                              min_split_gain = 0.0,\n",
    "                              max_depth = 7,\n",
    "                              learning_rate = 0.06,\n",
    "                              random_state=42,\n",
    "                              n_jobs=-1)\n",
    "lgbm.fit(X_train,y_train)\n",
    "\n",
    "\n"
   ]
  },
  {
   "cell_type": "code",
   "execution_count": 136,
   "metadata": {},
   "outputs": [],
   "source": [
    "pred = lgbm.predict(X_test)"
   ]
  },
  {
   "cell_type": "code",
   "execution_count": 122,
   "metadata": {
    "colab": {
     "base_uri": "https://localhost:8080/",
     "height": 34
    },
    "colab_type": "code",
    "id": "xUxxRveBzWq8",
    "outputId": "74103b84-5bc0-42da-a88c-086eda468a8a"
   },
   "outputs": [
    {
     "name": "stdout",
     "output_type": "stream",
     "text": [
      "MSE: 0.2897\n"
     ]
    }
   ],
   "source": [
    "print('MSE:', round(mse(y_valid, pred),4))"
   ]
  },
  {
   "cell_type": "markdown",
   "metadata": {
    "colab_type": "text",
    "id": "U9d9fFYC1F4c"
   },
   "source": [
    "## MLP"
   ]
  },
  {
   "cell_type": "code",
   "execution_count": 124,
   "metadata": {
    "colab": {
     "base_uri": "https://localhost:8080/",
     "height": 34
    },
    "colab_type": "code",
    "id": "ytcZ0SH01LN4",
    "outputId": "754ad367-7708-4b53-f41f-96cf51fb78af"
   },
   "outputs": [
    {
     "name": "stderr",
     "output_type": "stream",
     "text": [
      "Using TensorFlow backend.\n"
     ]
    }
   ],
   "source": [
    "import keras\n",
    "from keras.models import Sequential\n",
    "from keras import layers,optimizers,activations,regularizers,metrics,losses\n",
    "from keras.layers import Flatten,Dense,Dropout"
   ]
  },
  {
   "cell_type": "code",
   "execution_count": 125,
   "metadata": {
    "colab": {},
    "colab_type": "code",
    "id": "pXizMnJr1LPs"
   },
   "outputs": [
    {
     "name": "stdout",
     "output_type": "stream",
     "text": [
      "WARNING:tensorflow:From C:\\ProgramData\\Anaconda3\\lib\\site-packages\\tensorflow\\python\\framework\\op_def_library.py:263: colocate_with (from tensorflow.python.framework.ops) is deprecated and will be removed in a future version.\n",
      "Instructions for updating:\n",
      "Colocations handled automatically by placer.\n",
      "WARNING:tensorflow:From C:\\ProgramData\\Anaconda3\\lib\\site-packages\\keras\\backend\\tensorflow_backend.py:3445: calling dropout (from tensorflow.python.ops.nn_ops) with keep_prob is deprecated and will be removed in a future version.\n",
      "Instructions for updating:\n",
      "Please use `rate` instead of `keep_prob`. Rate should be set to `rate = 1 - keep_prob`.\n"
     ]
    }
   ],
   "source": [
    "\n",
    "model = Sequential()\n",
    "\n",
    "\n",
    "model.add(Dense(units=512, activation='relu', input_dim=X_train.shape[1]))\n",
    "\n",
    "model.add(Dropout(0.5))\n",
    "\n",
    "model.add(Dense(units=256, activation='relu'))\n",
    "\n",
    "model.add(Dropout(0.5))\n",
    "\n",
    "model.add(Dense(units=128, activation='relu'))\n",
    "\n",
    "model.add(Dropout(0.5))\n",
    "\n",
    "model.add(Dense(units=64, activation='relu'))\n",
    "\n",
    "model.add(Dropout(0.5))\n",
    "\n",
    "model.add(Dense(units=1))\n",
    "\n",
    "\n",
    "opt = optimizers.Adam(lr=0.01, beta_1=0.9, beta_2=0.999, epsilon=1e-08, decay=0.0)\n",
    "\n",
    "\n",
    "model.compile(loss='mse', optimizer=opt, metrics=['mse']) \n"
   ]
  },
  {
   "cell_type": "code",
   "execution_count": 126,
   "metadata": {
    "colab": {
     "base_uri": "https://localhost:8080/",
     "height": 370
    },
    "colab_type": "code",
    "id": "VKr3zZ6Y1LUy",
    "outputId": "afac0024-c283-4255-c700-5c93e805bcf5"
   },
   "outputs": [
    {
     "name": "stdout",
     "output_type": "stream",
     "text": [
      "_________________________________________________________________\n",
      "Layer (type)                 Output Shape              Param #   \n",
      "=================================================================\n",
      "dense_1 (Dense)              (None, 512)               65024     \n",
      "_________________________________________________________________\n",
      "dropout_1 (Dropout)          (None, 512)               0         \n",
      "_________________________________________________________________\n",
      "dense_2 (Dense)              (None, 256)               131328    \n",
      "_________________________________________________________________\n",
      "dropout_2 (Dropout)          (None, 256)               0         \n",
      "_________________________________________________________________\n",
      "dense_3 (Dense)              (None, 128)               32896     \n",
      "_________________________________________________________________\n",
      "dropout_3 (Dropout)          (None, 128)               0         \n",
      "_________________________________________________________________\n",
      "dense_4 (Dense)              (None, 64)                8256      \n",
      "_________________________________________________________________\n",
      "dropout_4 (Dropout)          (None, 64)                0         \n",
      "_________________________________________________________________\n",
      "dense_5 (Dense)              (None, 1)                 65        \n",
      "=================================================================\n",
      "Total params: 237,569\n",
      "Trainable params: 237,569\n",
      "Non-trainable params: 0\n",
      "_________________________________________________________________\n"
     ]
    }
   ],
   "source": [
    "model.summary()"
   ]
  },
  {
   "cell_type": "code",
   "execution_count": 127,
   "metadata": {
    "colab": {},
    "colab_type": "code",
    "id": "ziAWSVGM1LTb"
   },
   "outputs": [
    {
     "name": "stdout",
     "output_type": "stream",
     "text": [
      "WARNING:tensorflow:From C:\\ProgramData\\Anaconda3\\lib\\site-packages\\tensorflow\\python\\ops\\math_ops.py:3066: to_int32 (from tensorflow.python.ops.math_ops) is deprecated and will be removed in a future version.\n",
      "Instructions for updating:\n",
      "Use tf.cast instead.\n",
      "Train on 131822 samples, validate on 56496 samples\n",
      "Epoch 1/100\n",
      "131822/131822 [==============================] - 9s 71us/step - loss: 28.8001 - mean_squared_error: 28.8001 - val_loss: 2.3061 - val_mean_squared_error: 2.3061\n",
      "Epoch 2/100\n",
      "131822/131822 [==============================] - 3s 19us/step - loss: 2.7901 - mean_squared_error: 2.7901 - val_loss: 1.1914 - val_mean_squared_error: 1.1914\n",
      "Epoch 3/100\n",
      "131822/131822 [==============================] - 3s 19us/step - loss: 2.1479 - mean_squared_error: 2.1479 - val_loss: 1.0102 - val_mean_squared_error: 1.0102\n",
      "Epoch 4/100\n",
      "131822/131822 [==============================] - 3s 19us/step - loss: 1.7230 - mean_squared_error: 1.7230 - val_loss: 0.8719 - val_mean_squared_error: 0.8719\n",
      "Epoch 5/100\n",
      "131822/131822 [==============================] - 3s 19us/step - loss: 1.3585 - mean_squared_error: 1.3585 - val_loss: 0.8692 - val_mean_squared_error: 0.8692\n",
      "Epoch 6/100\n",
      "131822/131822 [==============================] - 3s 19us/step - loss: 1.0797 - mean_squared_error: 1.0797 - val_loss: 0.7143 - val_mean_squared_error: 0.7143\n",
      "Epoch 7/100\n",
      "131822/131822 [==============================] - 3s 19us/step - loss: 0.8838 - mean_squared_error: 0.8838 - val_loss: 0.6820 - val_mean_squared_error: 0.6820\n",
      "Epoch 8/100\n",
      "131822/131822 [==============================] - 2s 19us/step - loss: 0.7016 - mean_squared_error: 0.7016 - val_loss: 0.4969 - val_mean_squared_error: 0.4969\n",
      "Epoch 9/100\n",
      "131822/131822 [==============================] - 3s 20us/step - loss: 0.5376 - mean_squared_error: 0.5376 - val_loss: 0.3960 - val_mean_squared_error: 0.3960\n",
      "Epoch 10/100\n",
      "131822/131822 [==============================] - 3s 20us/step - loss: 0.4677 - mean_squared_error: 0.4677 - val_loss: 0.4328 - val_mean_squared_error: 0.4328\n",
      "Epoch 11/100\n",
      "131822/131822 [==============================] - 3s 19us/step - loss: 0.4506 - mean_squared_error: 0.4506 - val_loss: 0.4248 - val_mean_squared_error: 0.4248\n",
      "Epoch 12/100\n",
      "131822/131822 [==============================] - 3s 20us/step - loss: 0.4406 - mean_squared_error: 0.4406 - val_loss: 0.3850 - val_mean_squared_error: 0.3850\n",
      "Epoch 13/100\n",
      "131822/131822 [==============================] - 3s 20us/step - loss: 0.4390 - mean_squared_error: 0.4390 - val_loss: 0.3765 - val_mean_squared_error: 0.3765\n",
      "Epoch 14/100\n",
      "131822/131822 [==============================] - 3s 20us/step - loss: 0.4283 - mean_squared_error: 0.4283 - val_loss: 0.3710 - val_mean_squared_error: 0.3710\n",
      "Epoch 15/100\n",
      "131822/131822 [==============================] - 3s 19us/step - loss: 0.4301 - mean_squared_error: 0.4301 - val_loss: 0.3745 - val_mean_squared_error: 0.3745\n",
      "Epoch 16/100\n",
      "131822/131822 [==============================] - 3s 20us/step - loss: 0.4217 - mean_squared_error: 0.4217 - val_loss: 0.3696 - val_mean_squared_error: 0.3696\n",
      "Epoch 17/100\n",
      "131822/131822 [==============================] - 3s 20us/step - loss: 0.4184 - mean_squared_error: 0.4184 - val_loss: 0.3880 - val_mean_squared_error: 0.3880\n",
      "Epoch 18/100\n",
      "131822/131822 [==============================] - 3s 20us/step - loss: 0.4297 - mean_squared_error: 0.4297 - val_loss: 0.3748 - val_mean_squared_error: 0.3748\n",
      "Epoch 19/100\n",
      "131822/131822 [==============================] - 3s 20us/step - loss: 0.4308 - mean_squared_error: 0.4308 - val_loss: 0.3745 - val_mean_squared_error: 0.3745\n",
      "Epoch 20/100\n",
      "131822/131822 [==============================] - 3s 20us/step - loss: 0.4309 - mean_squared_error: 0.4309 - val_loss: 0.3863 - val_mean_squared_error: 0.3863\n",
      "Epoch 21/100\n",
      "131822/131822 [==============================] - 3s 20us/step - loss: 0.4351 - mean_squared_error: 0.4351 - val_loss: 0.4011 - val_mean_squared_error: 0.4011\n",
      "Epoch 22/100\n",
      "131822/131822 [==============================] - 3s 20us/step - loss: 0.4444 - mean_squared_error: 0.4444 - val_loss: 0.3892 - val_mean_squared_error: 0.3892\n",
      "Epoch 23/100\n",
      "131822/131822 [==============================] - 3s 20us/step - loss: 0.4405 - mean_squared_error: 0.4405 - val_loss: 0.3645 - val_mean_squared_error: 0.3645\n",
      "Epoch 24/100\n",
      "131822/131822 [==============================] - 3s 20us/step - loss: 0.4422 - mean_squared_error: 0.4422 - val_loss: 0.3916 - val_mean_squared_error: 0.3916\n",
      "Epoch 25/100\n",
      "131822/131822 [==============================] - 3s 20us/step - loss: 0.4516 - mean_squared_error: 0.4516 - val_loss: 0.4007 - val_mean_squared_error: 0.4007\n",
      "Epoch 26/100\n",
      "131822/131822 [==============================] - 3s 20us/step - loss: 0.4490 - mean_squared_error: 0.4490 - val_loss: 0.4008 - val_mean_squared_error: 0.4008\n",
      "Epoch 27/100\n",
      "131822/131822 [==============================] - 3s 20us/step - loss: 0.4538 - mean_squared_error: 0.4538 - val_loss: 0.3930 - val_mean_squared_error: 0.3930\n",
      "Epoch 28/100\n",
      "131822/131822 [==============================] - 3s 21us/step - loss: 0.4458 - mean_squared_error: 0.4458 - val_loss: 0.4214 - val_mean_squared_error: 0.4214\n",
      "Epoch 29/100\n",
      "131822/131822 [==============================] - 3s 20us/step - loss: 0.4637 - mean_squared_error: 0.4637 - val_loss: 0.3868 - val_mean_squared_error: 0.3868\n",
      "Epoch 30/100\n",
      "131822/131822 [==============================] - 3s 20us/step - loss: 0.4531 - mean_squared_error: 0.4531 - val_loss: 0.3978 - val_mean_squared_error: 0.3978\n",
      "Epoch 31/100\n",
      "131822/131822 [==============================] - 3s 20us/step - loss: 0.4581 - mean_squared_error: 0.4581 - val_loss: 0.3920 - val_mean_squared_error: 0.3920\n",
      "Epoch 32/100\n",
      "131822/131822 [==============================] - 3s 20us/step - loss: 0.4753 - mean_squared_error: 0.4753 - val_loss: 0.4515 - val_mean_squared_error: 0.4515\n",
      "Epoch 33/100\n",
      "131822/131822 [==============================] - 3s 20us/step - loss: 0.4758 - mean_squared_error: 0.4758 - val_loss: 0.3974 - val_mean_squared_error: 0.3974\n",
      "Epoch 34/100\n",
      "131822/131822 [==============================] - 3s 20us/step - loss: 0.4788 - mean_squared_error: 0.4788 - val_loss: 0.4664 - val_mean_squared_error: 0.4664\n",
      "Epoch 35/100\n",
      "131822/131822 [==============================] - 3s 20us/step - loss: 0.4855 - mean_squared_error: 0.4855 - val_loss: 0.4876 - val_mean_squared_error: 0.4876\n",
      "Epoch 36/100\n",
      "131822/131822 [==============================] - 3s 20us/step - loss: 0.5142 - mean_squared_error: 0.5142 - val_loss: 0.4439 - val_mean_squared_error: 0.4439\n",
      "Epoch 37/100\n",
      "131822/131822 [==============================] - 3s 20us/step - loss: 0.4939 - mean_squared_error: 0.4939 - val_loss: 0.4208 - val_mean_squared_error: 0.4208\n",
      "Epoch 38/100\n",
      "131822/131822 [==============================] - 3s 20us/step - loss: 0.4873 - mean_squared_error: 0.4873 - val_loss: 0.4484 - val_mean_squared_error: 0.4484\n",
      "Epoch 39/100\n",
      "131822/131822 [==============================] - 3s 20us/step - loss: 0.5111 - mean_squared_error: 0.5111 - val_loss: 0.4604 - val_mean_squared_error: 0.4604\n",
      "Epoch 40/100\n",
      "131822/131822 [==============================] - 3s 20us/step - loss: 0.4973 - mean_squared_error: 0.4973 - val_loss: 0.4261 - val_mean_squared_error: 0.4261\n",
      "Epoch 41/100\n",
      "131822/131822 [==============================] - 3s 20us/step - loss: 0.4886 - mean_squared_error: 0.4886 - val_loss: 0.4250 - val_mean_squared_error: 0.4250\n",
      "Epoch 42/100\n",
      "131822/131822 [==============================] - 3s 20us/step - loss: 0.4953 - mean_squared_error: 0.4953 - val_loss: 0.4137 - val_mean_squared_error: 0.4137\n",
      "Epoch 43/100\n",
      "131822/131822 [==============================] - 3s 20us/step - loss: 0.5084 - mean_squared_error: 0.5084 - val_loss: 0.4356 - val_mean_squared_error: 0.4356\n",
      "Epoch 44/100\n",
      "131822/131822 [==============================] - 3s 20us/step - loss: 0.5068 - mean_squared_error: 0.5068 - val_loss: 0.4182 - val_mean_squared_error: 0.4182\n",
      "Epoch 45/100\n",
      "131822/131822 [==============================] - 3s 21us/step - loss: 0.5221 - mean_squared_error: 0.5221 - val_loss: 0.4315 - val_mean_squared_error: 0.4315\n",
      "Epoch 46/100\n",
      "131822/131822 [==============================] - 3s 21us/step - loss: 0.5203 - mean_squared_error: 0.5203 - val_loss: 0.4300 - val_mean_squared_error: 0.4300\n",
      "Epoch 47/100\n",
      "131822/131822 [==============================] - 3s 21us/step - loss: 0.5044 - mean_squared_error: 0.5044 - val_loss: 0.4871 - val_mean_squared_error: 0.4871\n",
      "Epoch 48/100\n",
      "131822/131822 [==============================] - 3s 20us/step - loss: 0.5186 - mean_squared_error: 0.5186 - val_loss: 0.4464 - val_mean_squared_error: 0.4464\n",
      "Epoch 49/100\n",
      "131822/131822 [==============================] - 3s 20us/step - loss: 0.5346 - mean_squared_error: 0.5346 - val_loss: 0.6611 - val_mean_squared_error: 0.6611\n",
      "Epoch 50/100\n",
      "131822/131822 [==============================] - 3s 20us/step - loss: 0.6574 - mean_squared_error: 0.6574 - val_loss: 0.6581 - val_mean_squared_error: 0.6581\n",
      "Epoch 51/100\n",
      "131822/131822 [==============================] - 3s 20us/step - loss: 0.6691 - mean_squared_error: 0.6691 - val_loss: 0.6605 - val_mean_squared_error: 0.6605\n",
      "Epoch 52/100\n",
      "131822/131822 [==============================] - 3s 20us/step - loss: 0.6543 - mean_squared_error: 0.6543 - val_loss: 0.6644 - val_mean_squared_error: 0.6644\n",
      "Epoch 53/100\n",
      "131822/131822 [==============================] - 3s 20us/step - loss: 0.6341 - mean_squared_error: 0.6341 - val_loss: 0.4940 - val_mean_squared_error: 0.4940\n",
      "Epoch 54/100\n",
      "131822/131822 [==============================] - 3s 20us/step - loss: 0.6435 - mean_squared_error: 0.6435 - val_loss: 0.6588 - val_mean_squared_error: 0.6588\n",
      "Epoch 55/100\n",
      "131822/131822 [==============================] - 3s 20us/step - loss: 0.6543 - mean_squared_error: 0.6543 - val_loss: 0.6595 - val_mean_squared_error: 0.6595\n",
      "Epoch 56/100\n",
      "131822/131822 [==============================] - 3s 20us/step - loss: 0.6579 - mean_squared_error: 0.6579 - val_loss: 0.6588 - val_mean_squared_error: 0.6588\n",
      "Epoch 57/100\n",
      "131822/131822 [==============================] - 3s 20us/step - loss: 0.6583 - mean_squared_error: 0.6583 - val_loss: 0.6591 - val_mean_squared_error: 0.6591\n",
      "Epoch 58/100\n",
      "131822/131822 [==============================] - 3s 20us/step - loss: 0.6586 - mean_squared_error: 0.6586 - val_loss: 0.6581 - val_mean_squared_error: 0.6581\n",
      "Epoch 59/100\n",
      "131822/131822 [==============================] - 3s 20us/step - loss: 0.6584 - mean_squared_error: 0.6584 - val_loss: 0.6583 - val_mean_squared_error: 0.6583\n",
      "Epoch 60/100\n",
      "131822/131822 [==============================] - 3s 20us/step - loss: 0.6602 - mean_squared_error: 0.6602 - val_loss: 0.6582 - val_mean_squared_error: 0.6582\n",
      "Epoch 61/100\n",
      "131822/131822 [==============================] - 3s 20us/step - loss: 0.6586 - mean_squared_error: 0.6586 - val_loss: 0.6595 - val_mean_squared_error: 0.6595\n",
      "Epoch 62/100\n",
      "131822/131822 [==============================] - 3s 20us/step - loss: 0.6586 - mean_squared_error: 0.6586 - val_loss: 0.6582 - val_mean_squared_error: 0.6582\n",
      "Epoch 63/100\n",
      "131822/131822 [==============================] - 3s 20us/step - loss: 0.6585 - mean_squared_error: 0.6585 - val_loss: 0.6584 - val_mean_squared_error: 0.6584\n",
      "Epoch 64/100\n",
      "131822/131822 [==============================] - 3s 21us/step - loss: 0.6585 - mean_squared_error: 0.6585 - val_loss: 0.6580 - val_mean_squared_error: 0.6580\n",
      "Epoch 65/100\n",
      "131822/131822 [==============================] - 3s 21us/step - loss: 0.6585 - mean_squared_error: 0.6585 - val_loss: 0.6582 - val_mean_squared_error: 0.6582\n",
      "Epoch 66/100\n",
      "131822/131822 [==============================] - 3s 20us/step - loss: 0.6586 - mean_squared_error: 0.6586 - val_loss: 0.6580 - val_mean_squared_error: 0.6580\n",
      "Epoch 67/100\n",
      "131822/131822 [==============================] - 3s 21us/step - loss: 0.6585 - mean_squared_error: 0.6585 - val_loss: 0.6583 - val_mean_squared_error: 0.6583\n",
      "Epoch 68/100\n",
      "131822/131822 [==============================] - 3s 21us/step - loss: 0.6585 - mean_squared_error: 0.6585 - val_loss: 0.6587 - val_mean_squared_error: 0.6587\n",
      "Epoch 69/100\n",
      "131822/131822 [==============================] - 3s 21us/step - loss: 0.6584 - mean_squared_error: 0.6584 - val_loss: 0.6580 - val_mean_squared_error: 0.6580\n",
      "Epoch 70/100\n",
      "131822/131822 [==============================] - 3s 21us/step - loss: 0.6585 - mean_squared_error: 0.6585 - val_loss: 0.6583 - val_mean_squared_error: 0.6583\n",
      "Epoch 71/100\n",
      "131822/131822 [==============================] - 3s 20us/step - loss: 0.6587 - mean_squared_error: 0.6587 - val_loss: 0.6582 - val_mean_squared_error: 0.6582\n",
      "Epoch 72/100\n",
      "131822/131822 [==============================] - 3s 21us/step - loss: 0.6586 - mean_squared_error: 0.6586 - val_loss: 0.6581 - val_mean_squared_error: 0.6581\n",
      "Epoch 73/100\n",
      "131822/131822 [==============================] - 3s 20us/step - loss: 0.6608 - mean_squared_error: 0.6608 - val_loss: 0.6581 - val_mean_squared_error: 0.6581\n",
      "Epoch 74/100\n",
      "131822/131822 [==============================] - 3s 20us/step - loss: 0.6586 - mean_squared_error: 0.6586 - val_loss: 0.6580 - val_mean_squared_error: 0.6580\n",
      "Epoch 75/100\n",
      "131822/131822 [==============================] - 3s 20us/step - loss: 0.6585 - mean_squared_error: 0.6585 - val_loss: 0.6584 - val_mean_squared_error: 0.6584\n",
      "Epoch 76/100\n",
      "131822/131822 [==============================] - 3s 20us/step - loss: 0.6587 - mean_squared_error: 0.6587 - val_loss: 0.6581 - val_mean_squared_error: 0.6581\n",
      "Epoch 77/100\n",
      "131822/131822 [==============================] - 3s 20us/step - loss: 0.6586 - mean_squared_error: 0.6586 - val_loss: 0.6581 - val_mean_squared_error: 0.6581\n",
      "Epoch 78/100\n",
      "131822/131822 [==============================] - 3s 21us/step - loss: 0.6586 - mean_squared_error: 0.6586 - val_loss: 0.6581 - val_mean_squared_error: 0.6581\n",
      "Epoch 79/100\n",
      "131822/131822 [==============================] - 3s 20us/step - loss: 0.6585 - mean_squared_error: 0.6585 - val_loss: 0.6581 - val_mean_squared_error: 0.6581\n",
      "Epoch 80/100\n",
      "131822/131822 [==============================] - 3s 20us/step - loss: 0.6585 - mean_squared_error: 0.6585 - val_loss: 0.6582 - val_mean_squared_error: 0.6582\n",
      "Epoch 81/100\n",
      "131822/131822 [==============================] - 3s 21us/step - loss: 0.6585 - mean_squared_error: 0.6585 - val_loss: 0.6580 - val_mean_squared_error: 0.6580\n",
      "Epoch 82/100\n",
      "131822/131822 [==============================] - 3s 20us/step - loss: 0.6585 - mean_squared_error: 0.6585 - val_loss: 0.6585 - val_mean_squared_error: 0.6585\n",
      "Epoch 83/100\n",
      "131822/131822 [==============================] - 3s 20us/step - loss: 0.6586 - mean_squared_error: 0.6586 - val_loss: 0.6587 - val_mean_squared_error: 0.6587\n",
      "Epoch 84/100\n",
      "131822/131822 [==============================] - 3s 21us/step - loss: 0.6585 - mean_squared_error: 0.6585 - val_loss: 0.6582 - val_mean_squared_error: 0.6582\n",
      "Epoch 85/100\n",
      "131822/131822 [==============================] - 3s 21us/step - loss: 0.6587 - mean_squared_error: 0.6587 - val_loss: 0.6581 - val_mean_squared_error: 0.6581\n",
      "Epoch 86/100\n",
      "131822/131822 [==============================] - 3s 21us/step - loss: 0.6585 - mean_squared_error: 0.6585 - val_loss: 0.6580 - val_mean_squared_error: 0.6580\n",
      "Epoch 87/100\n",
      "131822/131822 [==============================] - 3s 21us/step - loss: 0.6511 - mean_squared_error: 0.6511 - val_loss: 0.6580 - val_mean_squared_error: 0.6580\n",
      "Epoch 88/100\n",
      "131822/131822 [==============================] - 3s 21us/step - loss: 0.6585 - mean_squared_error: 0.6585 - val_loss: 0.6600 - val_mean_squared_error: 0.6600\n",
      "Epoch 89/100\n",
      "131822/131822 [==============================] - 3s 21us/step - loss: 0.6585 - mean_squared_error: 0.6585 - val_loss: 0.6580 - val_mean_squared_error: 0.6580\n",
      "Epoch 90/100\n",
      "131822/131822 [==============================] - 3s 21us/step - loss: 0.6584 - mean_squared_error: 0.6584 - val_loss: 0.6581 - val_mean_squared_error: 0.6581\n",
      "Epoch 91/100\n",
      "131822/131822 [==============================] - 3s 21us/step - loss: 0.6587 - mean_squared_error: 0.6587 - val_loss: 0.6583 - val_mean_squared_error: 0.6583\n",
      "Epoch 92/100\n",
      "131822/131822 [==============================] - 3s 22us/step - loss: 0.6587 - mean_squared_error: 0.6587 - val_loss: 0.6582 - val_mean_squared_error: 0.6582\n",
      "Epoch 93/100\n",
      "131822/131822 [==============================] - 3s 21us/step - loss: 0.6586 - mean_squared_error: 0.6586 - val_loss: 0.6588 - val_mean_squared_error: 0.6588\n",
      "Epoch 94/100\n",
      "131822/131822 [==============================] - 3s 21us/step - loss: 0.6585 - mean_squared_error: 0.6585 - val_loss: 0.6588 - val_mean_squared_error: 0.6588\n"
     ]
    },
    {
     "name": "stdout",
     "output_type": "stream",
     "text": [
      "Epoch 95/100\n",
      "131822/131822 [==============================] - 3s 20us/step - loss: 0.6585 - mean_squared_error: 0.6585 - val_loss: 0.6580 - val_mean_squared_error: 0.6580\n",
      "Epoch 96/100\n",
      "131822/131822 [==============================] - 3s 20us/step - loss: 0.6586 - mean_squared_error: 0.6586 - val_loss: 0.6580 - val_mean_squared_error: 0.6580\n",
      "Epoch 97/100\n",
      "131822/131822 [==============================] - 3s 21us/step - loss: 0.6586 - mean_squared_error: 0.6586 - val_loss: 0.6583 - val_mean_squared_error: 0.6583\n",
      "Epoch 98/100\n",
      "131822/131822 [==============================] - 3s 20us/step - loss: 0.6585 - mean_squared_error: 0.6585 - val_loss: 0.6590 - val_mean_squared_error: 0.6590\n",
      "Epoch 99/100\n",
      "131822/131822 [==============================] - 3s 20us/step - loss: 0.6586 - mean_squared_error: 0.6586 - val_loss: 0.6581 - val_mean_squared_error: 0.6581\n",
      "Epoch 100/100\n",
      "131822/131822 [==============================] - 3s 21us/step - loss: 0.6586 - mean_squared_error: 0.6586 - val_loss: 0.6581 - val_mean_squared_error: 0.6581\n"
     ]
    }
   ],
   "source": [
    "\n",
    "\n",
    "# Train neural network\n",
    "history = model.fit(X_train, \n",
    "            y_train,\n",
    "            epochs=100,\n",
    "            verbose=1,\n",
    "            batch_size=256, \n",
    "            validation_data=(X_valid,y_valid))\n",
    "\n"
   ]
  },
  {
   "cell_type": "code",
   "execution_count": 128,
   "metadata": {
    "colab": {
     "base_uri": "https://localhost:8080/",
     "height": 34
    },
    "colab_type": "code",
    "id": "OqNRZgRN2a4x",
    "outputId": "a8284c06-8344-4adb-9e79-42248c0ae2d6"
   },
   "outputs": [
    {
     "name": "stdout",
     "output_type": "stream",
     "text": [
      "MSE: 0.6581\n"
     ]
    }
   ],
   "source": [
    "pred = model.predict(X_valid)\n",
    "print('MSE:', round(mse(y_valid, pred),4))"
   ]
  },
  {
   "cell_type": "markdown",
   "metadata": {
    "colab_type": "text",
    "id": "96zdtreoCWus"
   },
   "source": [
    "## Submission"
   ]
  },
  {
   "cell_type": "code",
   "execution_count": 145,
   "metadata": {
    "colab_type": "text",
    "id": "GLcoMe9m7uJi"
   },
   "outputs": [],
   "source": [
    "submission = pd.read_csv('data/sample_submission.csv',index_col='id')\n",
    "submission['loss'] = np.expm1(pred)\n",
    "submission.to_csv('XGB_Tuning_Final.csv')\n"
   ]
  },
  {
   "cell_type": "code",
   "execution_count": 0,
   "metadata": {
    "colab": {},
    "colab_type": "code",
    "id": "bG5EaHAjx3rX"
   },
   "outputs": [],
   "source": []
  }
 ],
 "metadata": {
  "colab": {
   "collapsed_sections": [],
   "name": "Insurance-Claims-Severity-Prediction",
   "provenance": [],
   "version": "0.3.2"
  },
  "kernelspec": {
   "display_name": "Python 3",
   "language": "python",
   "name": "python3"
  },
  "language_info": {
   "codemirror_mode": {
    "name": "ipython",
    "version": 3
   },
   "file_extension": ".py",
   "mimetype": "text/x-python",
   "name": "python",
   "nbconvert_exporter": "python",
   "pygments_lexer": "ipython3",
   "version": "3.6.8"
  }
 },
 "nbformat": 4,
 "nbformat_minor": 1
}
